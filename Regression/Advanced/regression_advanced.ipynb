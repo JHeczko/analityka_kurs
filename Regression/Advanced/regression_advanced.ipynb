{
 "cells": [
  {
   "metadata": {},
   "cell_type": "markdown",
   "source": [
    "# Część 1 - Analiza\n",
    "* Na wstepie wczytajmy nasze dane \n",
    "* Nastepnie zróbmy prostą analizę zależności miedzy zmiennymi\n",
    "* Zobaczmy przykład zmiennych gausowskich"
   ],
   "id": "a0b0ab8349c4804"
  },
  {
   "metadata": {},
   "cell_type": "code",
   "source": [
    "import pandas as pd\n",
    "import numpy as np\n",
    "import matplotlib.pyplot as plt\n",
    "from matplotlib import colors\n",
    "\n",
    "from sklearn.linear_model import LinearRegression\n",
    "from sklearn.model_selection import train_test_split\n",
    "from sklearn.metrics import mean_squared_error, mean_absolute_error\n",
    "from sklearn.preprocessing import PolynomialFeatures\n",
    "\n",
    "rd = pd.read_csv('./dataset/winequality-red.csv', sep=\";\")\n",
    "wd = pd.read_csv('./dataset/winequality-white.csv', sep=\";\")\n",
    "red_corr = rd.corr()\n",
    "white_corr = wd.corr()"
   ],
   "id": "dcb1348e08608ce1",
   "outputs": [],
   "execution_count": null
  },
  {
   "metadata": {},
   "cell_type": "code",
   "source": "wd.head()",
   "id": "cd2c9f45a33b3c19",
   "outputs": [],
   "execution_count": null
  },
  {
   "metadata": {},
   "cell_type": "code",
   "source": "rd.head()",
   "id": "d0565a993ee9dacd",
   "outputs": [],
   "execution_count": null
  },
  {
   "metadata": {},
   "cell_type": "code",
   "source": [
    "for x in [red_corr, white_corr]:\n",
    "    fig, ax = plt.subplots()\n",
    "    \n",
    "    divnorm = colors.TwoSlopeNorm(vmin=-1, vcenter=0, vmax=1)\n",
    "    cax = ax.imshow(x, cmap='Greys', interpolation='none', norm=divnorm)\n",
    "    \n",
    "    ax.set_xticks(np.arange(len(x.columns)))\n",
    "    ax.set_yticks(np.arange(len(x.columns)))\n",
    "    ax.set_xticklabels(x.columns)\n",
    "    ax.set_yticklabels(red_corr.columns)\n",
    "    \n",
    "    plt.title(f\"Macierz korelacji dla {\"czerwonego wina\" if x is red_corr else \"białego wina\"}\")\n",
    "    plt.colorbar(cax)  # Pasek kolorów\n",
    "    plt.xticks(rotation=90, ha=\"right\")\n",
    "    plt.grid(False)\n",
    "    plt.show()"
   ],
   "id": "3607f0bceb493ee4",
   "outputs": [],
   "execution_count": null
  },
  {
   "metadata": {},
   "cell_type": "markdown",
   "source": "## Zabaczmy najpierw zależności dla czerwonego wina",
   "id": "15a017b0b941d227"
  },
  {
   "metadata": {},
   "cell_type": "code",
   "source": [
    "pairs_red = [\n",
    "    (rd['density'],rd['fixed acidity']),\n",
    "    (rd['volatile acidity'],rd['fixed acidity']),\n",
    "    (rd['volatile acidity'],rd['citric acid']),\n",
    "    (rd['pH'], rd['fixed acidity']),\n",
    "    (rd['pH'], rd['citric acid']),\n",
    "    (rd['free sulfur dioxide'], rd['total sulfur dioxide']),\n",
    "    (rd['pH'],rd.density)]\n",
    "gausian_red = [\n",
    "    rd['volatile acidity'],\n",
    "    rd['density'],\n",
    "    rd.density,\n",
    "    rd.pH,\n",
    "    rd['fixed acidity']]\n",
    "for pair in pairs_red:\n",
    "    plt.scatter(pair[0],pair[1])\n",
    "    plt.ylabel(pair[1].name)\n",
    "    plt.xlabel(pair[0].name)\n",
    "    plt.show()\n",
    "    \n",
    "for item in gausian_red:\n",
    "    plt.hist(item,bins=50)\n",
    "    plt.xlabel(item.name)\n",
    "    plt.show()\n"
   ],
   "id": "6b3b0fcf19514a32",
   "outputs": [],
   "execution_count": null
  },
  {
   "metadata": {},
   "cell_type": "markdown",
   "source": "## A teraz dla wina białego",
   "id": "52af7514390d109a"
  },
  {
   "metadata": {},
   "cell_type": "code",
   "source": [
    "pairs_white = [\n",
    "    (wd['fixed acidity'],wd['volatile acidity']),\n",
    "    (wd['fixed acidity'],wd['citric acid']),\n",
    "    (wd['density'],wd['fixed acidity']),\n",
    "    (wd['pH'],wd['fixed acidity'])]\n",
    "\n",
    "for pair in pairs_white:\n",
    "    plt.scatter(pair[0],pair[1])\n",
    "    plt.ylabel(pair[1].name)\n",
    "    plt.xlabel(pair[0].name)\n",
    "    plt.show()\n",
    "    "
   ],
   "id": "ac7cf4ad4e05f607",
   "outputs": [],
   "execution_count": null
  },
  {
   "metadata": {},
   "cell_type": "markdown",
   "source": "## Teraz jeszcze dwie heatmapy pokazujace ciekawe właściwości",
   "id": "db5943bd5ce365b3"
  },
  {
   "metadata": {},
   "cell_type": "code",
   "source": [
    "# Teraz czerwone\n",
    "plt.scatter(rd['free sulfur dioxide'], rd['volatile acidity'], cmap='nipy_spectral', c=rd.quality, alpha=rd.quality/(max(rd.quality)))\n",
    "plt.colorbar().set_label('quality')\n",
    "plt.xlabel(\"free sulfur dioxide\")\n",
    "plt.ylabel(\"volatile acidity\")\n",
    "plt.title(\"Heat mapa ocen dla czerwonego wina\")\n",
    "plt.show()\n",
    "\n",
    "# Teraz białe\n",
    "plt.scatter(wd['free sulfur dioxide'], wd['volatile acidity'], cmap='nipy_spectral', c=wd.quality, alpha=wd.quality/(max(wd.quality)))\n",
    "plt.colorbar().set_label('quality')\n",
    "plt.xlabel(\"free sulfur dioxide\")\n",
    "plt.ylabel(\"volatile acidity\")\n",
    "plt.title(\"Heat mapa ocen dla białego wina\")\n",
    "plt.xscale('linear')\n",
    "plt.yscale('linear')\n",
    "plt.show()"
   ],
   "id": "c1e0c70a771a3bc1",
   "outputs": [],
   "execution_count": null
  },
  {
   "metadata": {},
   "cell_type": "markdown",
   "source": "## Zmienne gausowskie dla wina czerwonego",
   "id": "745dd7380dcd34db"
  },
  {
   "metadata": {},
   "cell_type": "code",
   "outputs": [],
   "execution_count": null,
   "source": [
    "gausian_red = [\n",
    "    rd['volatile acidity'],\n",
    "    rd['density'],\n",
    "    rd.density,\n",
    "    rd.pH,\n",
    "    rd['fixed acidity']]\n",
    "\n",
    "for item in gausian_red:\n",
    "    plt.hist(item,bins=50)\n",
    "    plt.xlabel(item.name)\n",
    "    plt.title(f\"~Guasowski rozkład dla {item.name}\")\n",
    "    plt.show()"
   ],
   "id": "23c7650a082a5861"
  },
  {
   "metadata": {},
   "cell_type": "markdown",
   "source": "## Zmienne gausowskie dla wina białego",
   "id": "b30ed1535b68c2ec"
  },
  {
   "metadata": {},
   "cell_type": "code",
   "source": [
    "gausian_white = [\n",
    "    wd['volatile acidity'],\n",
    "    wd['fixed acidity'], \n",
    "    wd['citric acid'],\n",
    "    wd.pH, \n",
    "    wd.density]\n",
    "\n",
    "for item in gausian_white:\n",
    "    plt.hist(item,bins=50)\n",
    "    plt.xlabel(item.name)\n",
    "    plt.title(f\"~Guasowski rozkład dla {item.name}\")\n",
    "    plt.show()"
   ],
   "id": "36c4845b7e01afee",
   "outputs": [],
   "execution_count": null
  },
  {
   "metadata": {},
   "cell_type": "markdown",
   "source": [
    "# Część 2 - Regresja\n",
    "* postaram sie zbudować model przewidujący kilka użytecznych zmiennych\n",
    "* analiza pod względem uzytych funkcji i dlaczego są dobre lub nie"
   ],
   "id": "413066264a57776f"
  },
  {
   "metadata": {},
   "cell_type": "code",
   "outputs": [],
   "execution_count": null,
   "source": "",
   "id": "45e6b9c8d27476cf"
  }
 ],
 "metadata": {
  "kernelspec": {
   "display_name": "Python 3",
   "language": "python",
   "name": "python3"
  },
  "language_info": {
   "codemirror_mode": {
    "name": "ipython",
    "version": 2
   },
   "file_extension": ".py",
   "mimetype": "text/x-python",
   "name": "python",
   "nbconvert_exporter": "python",
   "pygments_lexer": "ipython2",
   "version": "2.7.6"
  }
 },
 "nbformat": 4,
 "nbformat_minor": 5
}
