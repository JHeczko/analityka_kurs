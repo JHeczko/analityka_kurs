{
 "cells": [
  {
   "cell_type": "markdown",
   "metadata": {},
   "source": "# Classification primer"
  },
  {
   "cell_type": "code",
   "metadata": {
    "collapsed": false,
    "ExecuteTime": {
     "end_time": "2024-11-29T08:31:34.329008Z",
     "start_time": "2024-11-29T08:31:31.205267Z"
    }
   },
   "source": [
    "import pandas as pd\n",
    "import timeit\n",
    "from sklearn.linear_model import LogisticRegression\n",
    "\n",
    "def remove_punctuation(text):\n",
    "    # if text is not str:\n",
    "    #     print(text)\n",
    "    #     return text\n",
    "    text = str(text)\n",
    "    import string\n",
    "    translator = str.maketrans('', '', string.punctuation)\n",
    "    return text.translate(translator)\n",
    "\n",
    "bd_load = pd.read_csv('./datasets/amazon_baby.csv')\n",
    "bd = bd_load.copy()\n",
    "bd.head()"
   ],
   "outputs": [
    {
     "data": {
      "text/plain": [
       "                                                name  \\\n",
       "0                           Planetwise Flannel Wipes   \n",
       "1                              Planetwise Wipe Pouch   \n",
       "2                Annas Dream Full Quilt with 2 Shams   \n",
       "3  Stop Pacifier Sucking without tears with Thumb...   \n",
       "4  Stop Pacifier Sucking without tears with Thumb...   \n",
       "\n",
       "                                              review  rating  \n",
       "0  These flannel wipes are OK, but in my opinion ...       3  \n",
       "1  it came early and was not disappointed. i love...       5  \n",
       "2  Very soft and comfortable and warmer than it l...       5  \n",
       "3  This is a product well worth the purchase.  I ...       5  \n",
       "4  All of my kids have cried non-stop when I trie...       5  "
      ],
      "text/html": [
       "<div>\n",
       "<style scoped>\n",
       "    .dataframe tbody tr th:only-of-type {\n",
       "        vertical-align: middle;\n",
       "    }\n",
       "\n",
       "    .dataframe tbody tr th {\n",
       "        vertical-align: top;\n",
       "    }\n",
       "\n",
       "    .dataframe thead th {\n",
       "        text-align: right;\n",
       "    }\n",
       "</style>\n",
       "<table border=\"1\" class=\"dataframe\">\n",
       "  <thead>\n",
       "    <tr style=\"text-align: right;\">\n",
       "      <th></th>\n",
       "      <th>name</th>\n",
       "      <th>review</th>\n",
       "      <th>rating</th>\n",
       "    </tr>\n",
       "  </thead>\n",
       "  <tbody>\n",
       "    <tr>\n",
       "      <th>0</th>\n",
       "      <td>Planetwise Flannel Wipes</td>\n",
       "      <td>These flannel wipes are OK, but in my opinion ...</td>\n",
       "      <td>3</td>\n",
       "    </tr>\n",
       "    <tr>\n",
       "      <th>1</th>\n",
       "      <td>Planetwise Wipe Pouch</td>\n",
       "      <td>it came early and was not disappointed. i love...</td>\n",
       "      <td>5</td>\n",
       "    </tr>\n",
       "    <tr>\n",
       "      <th>2</th>\n",
       "      <td>Annas Dream Full Quilt with 2 Shams</td>\n",
       "      <td>Very soft and comfortable and warmer than it l...</td>\n",
       "      <td>5</td>\n",
       "    </tr>\n",
       "    <tr>\n",
       "      <th>3</th>\n",
       "      <td>Stop Pacifier Sucking without tears with Thumb...</td>\n",
       "      <td>This is a product well worth the purchase.  I ...</td>\n",
       "      <td>5</td>\n",
       "    </tr>\n",
       "    <tr>\n",
       "      <th>4</th>\n",
       "      <td>Stop Pacifier Sucking without tears with Thumb...</td>\n",
       "      <td>All of my kids have cried non-stop when I trie...</td>\n",
       "      <td>5</td>\n",
       "    </tr>\n",
       "  </tbody>\n",
       "</table>\n",
       "</div>"
      ]
     },
     "execution_count": 1,
     "metadata": {},
     "output_type": "execute_result"
    }
   ],
   "execution_count": 1
  },
  {
   "cell_type": "markdown",
   "metadata": {},
   "source": [
    "## Exercise 1 (data preparation)\n",
    "a) Remove punctuation from reviews using the given function.   \n",
    "b) Replace all missing (nan) revies with empty \"\" string.  \n",
    "c) Drop all the entries with rating = 3, as they have neutral sentiment.   \n",
    "d) Set all positive ($\\geq$4) ratings to 1 and negative($\\leq$2) to -1."
   ]
  },
  {
   "cell_type": "code",
   "metadata": {
    "collapsed": false,
    "ExecuteTime": {
     "end_time": "2024-11-08T11:28:29.062520Z",
     "start_time": "2024-11-08T11:28:28.295192Z"
    }
   },
   "source": [
    "#a)\n",
    "bd['review'] = bd['review'].apply(remove_punctuation)\n",
    "\n",
    "#short test: \n",
    "bd[\"review\"][4] == 'All of my kids have cried nonstop when I tried to ween them off their pacifier until I found Thumbuddy To Loves Binky Fairy Puppet  It is an easy way to work with your kids to allow them to understand where their pacifier is going and help them part from itThis is a must buy book and a great gift for expecting parents  You will save them soo many headachesThanks for this book  You all rock'\n",
    "remove_punctuation(bd[\"review\"][4]) == 'All of my kids have cried nonstop when I tried to ween them off their pacifier until I found Thumbuddy To Loves Binky Fairy Puppet  It is an easy way to work with your kids to allow them to understand where their pacifier is going and help them part from itThis is a must buy book and a great gift for expecting parents  You will save them soo many headachesThanks for this book  You all rock'"
   ],
   "outputs": [
    {
     "data": {
      "text/plain": [
       "True"
      ]
     },
     "execution_count": 217,
     "metadata": {},
     "output_type": "execute_result"
    }
   ],
   "execution_count": 217
  },
  {
   "cell_type": "code",
   "metadata": {
    "collapsed": false,
    "ExecuteTime": {
     "end_time": "2024-11-08T11:28:29.118874Z",
     "start_time": "2024-11-08T11:28:29.080264Z"
    }
   },
   "source": [
    "#b)\n",
    "bd['review'] = bd['review'].apply(lambda x: \"\" if x=='nan' else x)\n",
    "#short test:\n",
    "bd[\"review\"][38] == bd[\"review\"][38]"
   ],
   "outputs": [
    {
     "data": {
      "text/plain": [
       "True"
      ]
     },
     "execution_count": 218,
     "metadata": {},
     "output_type": "execute_result"
    }
   ],
   "execution_count": 218
  },
  {
   "cell_type": "code",
   "metadata": {
    "collapsed": false,
    "ExecuteTime": {
     "end_time": "2024-11-08T11:28:29.155646Z",
     "start_time": "2024-11-08T11:28:29.137233Z"
    }
   },
   "source": [
    "#c)\n",
    "bd = bd[bd['rating'] != 3]\n",
    "\n",
    "#short test:\n",
    "sum(bd[\"rating\"] == 3)"
   ],
   "outputs": [
    {
     "data": {
      "text/plain": [
       "0"
      ]
     },
     "execution_count": 219,
     "metadata": {},
     "output_type": "execute_result"
    }
   ],
   "execution_count": 219
  },
  {
   "cell_type": "code",
   "metadata": {
    "collapsed": false,
    "ExecuteTime": {
     "end_time": "2024-11-08T11:28:29.240751Z",
     "start_time": "2024-11-08T11:28:29.198913Z"
    }
   },
   "source": [
    "#d) \n",
    "bd['sentiment'] = bd['rating'].apply(lambda x: 1 if x > 3 else -1)\n",
    "#short test:\n",
    "print(bd[['sentiment','rating']].sample(7))\n",
    "print(\"Test vale:\")\n",
    "sum(bd[\"sentiment\"]**2 != 1)"
   ],
   "outputs": [
    {
     "name": "stdout",
     "output_type": "stream",
     "text": [
      "        sentiment  rating\n",
      "106543          1       5\n",
      "180164          1       5\n",
      "56332           1       5\n",
      "24133          -1       2\n",
      "183199         -1       1\n",
      "106643         -1       2\n",
      "65108           1       4\n",
      "Test vale:\n"
     ]
    },
    {
     "data": {
      "text/plain": [
       "0"
      ]
     },
     "execution_count": 220,
     "metadata": {},
     "output_type": "execute_result"
    }
   ],
   "execution_count": 220
  },
  {
   "metadata": {},
   "cell_type": "markdown",
   "source": "> 📝 <span style=\"color:lightblue\">Komentarz:</span> Mamy więc binarną klasyfikację, na opinię pozytywnę bądź nie z pominięciem opinii neutralnych (gdzie rating$\\geq$4). Bierzę się to z tąd, że nie jesteśmy w stanie jednoznacznie stwierdzić, czy opinie są bardziej negatywne, czy pozytywne. Brak takiej jednoznaczności może zaburzyć proces uczenia"
  },
  {
   "cell_type": "markdown",
   "metadata": {},
   "source": [
    "## CountVectorizer\n",
    "In order to analyze strings, we need to assign them numerical values. We will use one of the simplest string representation, which transforms strings into the $n$ dimensional vectors. The number of dimensions will be the size of our dictionary, and then the values of the vector will represent the number of appereances of the given word in the sentence."
   ]
  },
  {
   "cell_type": "code",
   "metadata": {
    "collapsed": false,
    "ExecuteTime": {
     "end_time": "2024-11-08T11:28:29.263096Z",
     "start_time": "2024-11-08T11:28:29.258710Z"
    }
   },
   "source": [
    "from sklearn.feature_extraction.text import CountVectorizer\n",
    "\n",
    "vectorizer = CountVectorizer()\n",
    "reviews_train_example = [\"We like apples\",\n",
    "                   \"We hate oranges\",\n",
    "                   \"I adore bananas\",\n",
    "                   \"We like like apples and oranges\",\n",
    "                   \"They dislike bananas\"]\n",
    "\n",
    "X_train_example = vectorizer.fit_transform(reviews_train_example)\n",
    "\n",
    "print(vectorizer.get_feature_names_out())\n",
    "print(X_train_example.todense())\n",
    "\n"
   ],
   "outputs": [
    {
     "name": "stdout",
     "output_type": "stream",
     "text": [
      "['adore' 'and' 'apples' 'bananas' 'dislike' 'hate' 'like' 'oranges' 'they'\n",
      " 'we']\n",
      "[[0 0 1 0 0 0 1 0 0 1]\n",
      " [0 0 0 0 0 1 0 1 0 1]\n",
      " [1 0 0 1 0 0 0 0 0 0]\n",
      " [0 1 1 0 0 0 2 1 0 1]\n",
      " [0 0 0 1 1 0 0 0 1 0]]\n"
     ]
    }
   ],
   "execution_count": 221
  },
  {
   "metadata": {},
   "cell_type": "markdown",
   "source": "> 📝 <span style=\"color:lightblue\">Komentarz:</span> Wykorzystujemy metodę 'bag of words', czyli każdy wyraz ma swoje miejsce w wektorze jako osobny index. Apples na przykład będzie zliczany na drugimindeksie a oranges na siódmym itd w każdym zdaniu."
  },
  {
   "cell_type": "code",
   "metadata": {
    "collapsed": false,
    "ExecuteTime": {
     "end_time": "2024-11-08T11:28:29.293629Z",
     "start_time": "2024-11-08T11:28:29.291004Z"
    }
   },
   "source": [
    "reviews_test_example = [\"They like bananas\",\n",
    "                   \"We hate oranges bananas and apples\",\n",
    "                   \"We love bananas\"] #New word!\n",
    "\n",
    "X_test_example = vectorizer.transform(reviews_test_example)\n",
    "print(vectorizer.get_feature_names_out())\n",
    "print(X_test_example.todense())"
   ],
   "outputs": [
    {
     "name": "stdout",
     "output_type": "stream",
     "text": [
      "['adore' 'and' 'apples' 'bananas' 'dislike' 'hate' 'like' 'oranges' 'they'\n",
      " 'we']\n",
      "[[0 0 0 1 0 0 1 0 1 0]\n",
      " [0 1 1 1 0 1 0 1 0 1]\n",
      " [0 0 0 1 0 0 0 0 0 1]]\n"
     ]
    }
   ],
   "execution_count": 222
  },
  {
   "cell_type": "markdown",
   "metadata": {},
   "source": [
    "We should acknowledge few facts. Firstly, CountVectorizer does not take order into account. Secondly, it ignores one-letter words (this can be changed during initialization). Finally, for test values, CountVectorizer ignores words which are not in it's dictionary."
   ]
  },
  {
   "cell_type": "markdown",
   "metadata": {},
   "source": [
    "## Exercise 2 \n",
    "a) Split dataset into training and test sets.     \n",
    "b) Transform reviews into vectors using CountVectorizer. "
   ]
  },
  {
   "cell_type": "code",
   "metadata": {
    "collapsed": true,
    "ExecuteTime": {
     "end_time": "2024-11-08T11:28:29.407315Z",
     "start_time": "2024-11-08T11:28:29.353703Z"
    }
   },
   "source": [
    "from sklearn.model_selection import train_test_split\n",
    "#a)\n",
    "bd_copy = bd.copy()\n",
    "X = bd_copy['review'].values\n",
    "y = bd_copy['sentiment'].values\n",
    "x_train, x_test, y_train, y_test = train_test_split(X,y, test_size=0.2, random_state=48)"
   ],
   "outputs": [],
   "execution_count": 223
  },
  {
   "cell_type": "code",
   "metadata": {
    "collapsed": true,
    "ExecuteTime": {
     "end_time": "2024-11-08T11:28:37.383322Z",
     "start_time": "2024-11-08T11:28:29.445277Z"
    }
   },
   "source": [
    "#b)\n",
    "vectorizer = CountVectorizer()\n",
    "vectorizer.fit(x_train)\n",
    "x_vec_train = vectorizer.transform(x_train)\n",
    "x_vec_test = vectorizer.transform(x_test)\n",
    "words = vectorizer.get_feature_names_out()\n",
    "print(f\"Ilość słów branych pod uwagę w modelu: {len(words)}\")"
   ],
   "outputs": [
    {
     "name": "stdout",
     "output_type": "stream",
     "text": [
      "Ilość słów branych pod uwagę w modelu: 121305\n"
     ]
    }
   ],
   "execution_count": 224
  },
  {
   "metadata": {},
   "cell_type": "markdown",
   "source": "> 📝 <span style=\"color:lightblue\">Komentarz:</span> A więc .fit dopasowujemy nasz obiekt wektoryzujący do naszych danych, które podajemy tz. że tworzy on sobie poszczególne etykiety (w zależności od wszystkich słów w danych) dla każdego miejsca w tablicy, a następnie za pomocą transform zliczas sobie słowa i dla każdego zdania (tokenu), daje nam wektor, który jest reprezentacją tego zdania tylko, że liczbową, a więc długość wektoru to będzie ilość wszystkich unikalnych słów, we wszystkich podanych zdaniach do transform (tutaj będzie tego dużo, bardzo dużo)"
  },
  {
   "cell_type": "markdown",
   "metadata": {},
   "source": [
    "## Exercise 3 \n",
    "a) Train LogisticRegression model on training data (reviews processed with CountVectorizer, ratings as they were).   \n",
    "b) Print 10 most positive and 10 most negative words."
   ]
  },
  {
   "metadata": {
    "ExecuteTime": {
     "end_time": "2024-11-08T11:29:26.162864Z",
     "start_time": "2024-11-08T11:28:37.408762Z"
    }
   },
   "cell_type": "code",
   "source": [
    "#a)\n",
    "model = LogisticRegression(solver='liblinear', max_iter=10000)\n",
    "model.fit(x_vec_train, y_train)\n",
    "model.predict(vectorizer.transform(['very good, im really glad i bought it']))[0]"
   ],
   "outputs": [
    {
     "data": {
      "text/plain": [
       "1"
      ]
     },
     "execution_count": 225,
     "metadata": {},
     "output_type": "execute_result"
    }
   ],
   "execution_count": 225
  },
  {
   "metadata": {},
   "cell_type": "markdown",
   "source": "> 📝 <span style=\"color:lightblue\">Komentarz:</span> Myśle, że na komentarz tutaj zasługuje użycie innego solvera niż 'lbfgs', ponieważ mamy względnie mały dataset oraz mamy binarną klasyfikację to według dokumentacji *\"For small datasets, 'liblinear' is a good choice, whereas 'sag' and 'saga' are faster for large ones;\"* i rzeczywiście działą lepiej niż sag, to wyszło w trakcie testów. Widzimy, że po wytrenowaniu modelu, rzeczywiście udało się mu dobrze przewidzieć sens podanego przykładowego zdania (oczywiście jest on skrajnie pozytywny)."
  },
  {
   "metadata": {
    "ExecuteTime": {
     "end_time": "2024-11-08T11:29:26.586040Z",
     "start_time": "2024-11-08T11:29:26.284360Z"
    }
   },
   "cell_type": "code",
   "source": [
    "#b)\n",
    "zipped = zip(model.coef_[0], vectorizer.get_feature_names_out())\n",
    "zipped2 = zip(model.coef_[0], vectorizer.get_feature_names_out())\n",
    "zipped_sorted_best = sorted(zipped,key=lambda x: x[0], reverse=True)\n",
    "zipped_sorted_worst = sorted(zipped2,key=lambda x: x[0])\n",
    "print(\"Najlepsze słowa:\")\n",
    "for coef, word in zipped_sorted_best[:11]:\n",
    "    print(f\"Słowo: {word:<20} Współczynnik: {coef:.4f}\")\n",
    "\n",
    "# Najgorsze współczynniki\n",
    "print(\"\\nNajgorsze słowa:\")\n",
    "for coef, word in zipped_sorted_worst[:11]:\n",
    "    print(f\"Słowo: {word:<20} Współczynnik: {coef:.4f}\")"
   ],
   "outputs": [
    {
     "name": "stdout",
     "output_type": "stream",
     "text": [
      "Najlepsze słowa:\n",
      "Słowo: outstanding          Współczynnik: 2.1031\n",
      "Słowo: saves                Współczynnik: 2.0771\n",
      "Słowo: hesitate             Współczynnik: 2.0458\n",
      "Słowo: lifesaver            Współczynnik: 1.9210\n",
      "Słowo: rich                 Współczynnik: 1.9108\n",
      "Słowo: thankful             Współczynnik: 1.8874\n",
      "Słowo: con                  Współczynnik: 1.8789\n",
      "Słowo: flipit               Współczynnik: 1.8568\n",
      "Słowo: skeptical            Współczynnik: 1.8562\n",
      "Słowo: excellent            Współczynnik: 1.8559\n",
      "Słowo: penny                Współczynnik: 1.8468\n",
      "\n",
      "Najgorsze słowa:\n",
      "Słowo: dissapointed         Współczynnik: -2.7966\n",
      "Słowo: disappointing        Współczynnik: -2.7691\n",
      "Słowo: worst                Współczynnik: -2.7393\n",
      "Słowo: unusable             Współczynnik: -2.5142\n",
      "Słowo: theory               Współczynnik: -2.5067\n",
      "Słowo: worthless            Współczynnik: -2.4450\n",
      "Słowo: useless              Współczynnik: -2.2817\n",
      "Słowo: poorly               Współczynnik: -2.2506\n",
      "Słowo: unacceptable         Współczynnik: -2.1877\n",
      "Słowo: disappointed         Współczynnik: -2.1825\n",
      "Słowo: poor                 Współczynnik: -2.1258\n"
     ]
    }
   ],
   "execution_count": 226
  },
  {
   "metadata": {},
   "cell_type": "markdown",
   "source": "> 📝 <span style=\"color:lightblue\">Komentarz:</span> Co również zasługuje na komentarz to słowa najbardziej znaczące, widzimy, że większość z nich robi sens, jednak są takie, które są wątpliwe, jak na przykład 'skeptical' albo 'con', słowa negatywne raczej mają sens "
  },
  {
   "cell_type": "markdown",
   "metadata": {},
   "source": [
    "## Exercise 4 \n",
    "a) Predict the sentiment of test data reviews.   \n",
    "b) Predict the sentiment of test data reviews in terms of probability.   \n",
    "c) Find five most positive and most negative reviews.   \n",
    "d) Calculate the accuracy of predictions."
   ]
  },
  {
   "metadata": {
    "ExecuteTime": {
     "end_time": "2024-11-08T11:29:26.701965Z",
     "start_time": "2024-11-08T11:29:26.673183Z"
    }
   },
   "cell_type": "code",
   "source": [
    "#a)\n",
    "test_predict = model.predict(x_vec_test)\n",
    "print(f\"Klasy modelu: {model.classes_}\")\n",
    "print(f\"Wyniki przykładowe: {test_predict[0:12]}\")"
   ],
   "outputs": [
    {
     "name": "stdout",
     "output_type": "stream",
     "text": [
      "Klasy modelu: [-1  1]\n",
      "Wyniki przykładowe: [ 1  1  1  1  1  1  1 -1  1  1  1  1]\n"
     ]
    }
   ],
   "execution_count": 227
  },
  {
   "metadata": {
    "ExecuteTime": {
     "end_time": "2024-11-08T11:29:26.747063Z",
     "start_time": "2024-11-08T11:29:26.731505Z"
    }
   },
   "cell_type": "code",
   "source": [
    "#b)\n",
    "test_prob_predict = model.predict_proba(x_vec_test).transpose()\n",
    "test_prob_positive = test_prob_predict[1]\n",
    "test_prob_negative = test_prob_predict[0]\n",
    "print(f\" Przykłady wyników pozytywnych: {test_prob_positive[0:12]}\\nOraz wyników negatywnych {test_prob_negative[0:12]}\",sep='\\n')\n",
    "#hint: model.predict_proba()"
   ],
   "outputs": [
    {
     "name": "stdout",
     "output_type": "stream",
     "text": [
      " Przykłady wyników pozytywnych: [0.9914131  0.99999969 0.90814348 0.59880484 0.8525614  0.84487228\n",
      " 0.99560084 0.20110629 0.99805481 0.99530593 0.62988782 0.99971802]\n",
      "Oraz wyników negatywnych [8.58690402e-03 3.09521254e-07 9.18565218e-02 4.01195163e-01\n",
      " 1.47438595e-01 1.55127718e-01 4.39916020e-03 7.98893706e-01\n",
      " 1.94518991e-03 4.69407405e-03 3.70112184e-01 2.81976015e-04]\n"
     ]
    }
   ],
   "execution_count": 228
  },
  {
   "metadata": {},
   "cell_type": "markdown",
   "source": "> 📝 <span style=\"color:lightblue\">Komentarz:</span> Oczywiście wyniki negatywne to bedzie $P_{neg}= 1-P_{poz}$."
  },
  {
   "metadata": {
    "ExecuteTime": {
     "end_time": "2024-11-08T11:29:26.905621Z",
     "start_time": "2024-11-08T11:29:26.793054Z"
    }
   },
   "cell_type": "code",
   "source": [
    "#c) \n",
    "zip_opinions_positive = zip(x_test, test_prob_positive)\n",
    "zip_opinions_negative = zip(x_test, test_prob_negative)\n",
    "\n",
    "zip_pos_sorted = sorted(zip_opinions_positive,key=lambda x: x[1], reverse=True)\n",
    "zip_neg_sorted = sorted(zip_opinions_negative,key=lambda x: x[1], reverse=True)\n",
    "\n",
    "i = 1\n",
    "for op,prob in zip_pos_sorted[0:5]:\n",
    "    print(f\"\\n\\n{i} with probability being positive{prob})\\n{op}\")\n",
    "    i += 1\n",
    "#hint: use the results of b)"
   ],
   "outputs": [
    {
     "name": "stdout",
     "output_type": "stream",
     "text": [
      "\n",
      "\n",
      "1 with probability being positive1.0)\n",
      "We are thrilled with this rear seat This little seat was a snap to install and has extended the life of our Joovy Caboose Ultralight stroller My oldest child is 4 and a half years old and very tall and he still eagerly climbs into the back of the Joovy now that we have this seatOur family has loved the Joovy Caboose Ultralight Its great and relatively easy for one parent to fold up and open At first my son loved to sit on the rear facing bench seat that comes standard in the back of the Joovy However once the novelty wore off and he grew taller he started to complain that he couldnt get comfortable as he enviously eyed his twoyearold little sister chilling in her front seat He would want to be carried instead negating the whole purpose of the double strollerThe problem is this the standard seat is small its not fixed in place it can slide forward and backward  for easy access to the underseat storage basket and theres no back  its literally a rectangle with a little padding  so theres no ability for a little guy or girl to reclineSince we wanted to use the stroller for an upcoming Disneyland trip we were concerned Enter this rear seat  Presto Suddenly my son was able to relax lean back and enjoy life And so could Mom and Dad Once after a long day at Disneyland both kids even fell asleep sitting up in the Joovy as we pushed them back to the hotel We have never taken this seat off  it is here to stayStorage issue and how we solved it Installing the seat meant that the underseat storage disappeared since that is where my sons feet go now However we solved this by buying some heavyduty stroller hooks and we now hang tote bags from the handle to store what we would have placed under the seats And its easier to access our stuff this way Before we used to have to ask our son to get off the stroller so we could get at the underseat storageMessing with little sister issue and how we solved it Now that my son could face forward this meant he could now have easier access to hit his little sisters headgrab her hair or otherwise mess with her We solved this problem by withholding treatssnacks in the stroller when he did not behave  a terrible fateI just wish we had purchased this seat from the getgo It would have saved my arms and my patience on many occasions\n",
      "\n",
      "\n",
      "2 with probability being positive1.0)\n",
      "I am a third time mother  When my older two boys ages 7 and 4 were babies I had the traditional full sized big high chairs for them  They took up a lot of space were hard to keep clean and very clunky for lack of a better wordWhen I was pregnant with my baby boy Conner I saw this and knew that when it was time for a high chair that this is what I was going to getMy primary reasons for choosing this high chair at first were the fact that it saves space and that it reclines  My baby boy will be 5 months old on 625 and just started solids a couple weeks ago  Reclining is a must at this point as he cannot yet sit up without support  Now that Ive used it however there are so many things I love about this chair  It very easily wipes clean but the pad is machine washable if it gets really dirty  My baby is only on stage one foodsnot feeding himself yet so Ive been able to just wipe it down  However Im sure once he is feeding himself things will get messier  Thus being able to throw it in the washing machine is a huge plus  The high chair was very easy to install and fits perfectly on one of my dining room chairs  It feels very secure doesnt slide around like Ive had with other boosters seats Speaking of boosters seats this one converts to one so that saves money down the road as well  The tray comes off and on very easily and is easy to clean as wellMy son is very comfortable in this  Ive seen complaints about the straps in other reviews but they have not at all been an issue for me  They fit securely and just right  I also like that my son is able to sit at the table with the family during meal times  I also used it to sit him in when I am cooking or cleaning in the kitchen and it keeps him very happy The price on this is great and for getting two products high chair and booster in one you really cannot beat it  Ive looked at other models of this type of high chair but this one is by far the best in my opinionWere done having kids 3 is enough for us but when I go to baby showers in the future or have friends and family that have babies this will be the present I get for them  I highly recommend this to anyone who is on amazon looking for a high chair  You will not be disappointed\n",
      "\n",
      "\n",
      "3 with probability being positive1.0)\n",
      "new to cloth diapering trying to figure out if its right for you check out this link to help break down the lingo and facts  if that link doesnt work i will copy and paste the info at the bottom of this review And now MY two centsI used disposable first as my baby was too small to fit into his ALLINONE BumGenius pocket diapers He grew into them once he reached 10 lbs around 1 month old Originally I only had 20 diapers but quickly purchased another 20 The total of 40 diapers ran around 65000 If you do the math thats what you will pay for dispoables in the first 5  6 months I wash them on average twice a week and with each passing month they are circulating more slowly as my babys bowels function more regularly and effeceintly They are holding up very well so far VERY few leaks Actally had more leaks and blowouts with the disposable diapers also more issues with diaper rash They go on with ease the velcro makes them just like disposable diapers Once I have removed the used diaper I simply place it in my Planet Wise Hanging WetDry Diaper Bag I initially feared there would be smells through my house from this type of diapering There is NO SMELL I have asked visitors and no one even knew I was cloth diapering due to a dirty diaper smell To wash I use a special detergent on them Charlies Soap Powder or Rockin Green Cloth Diaper and Laundry Detergent Until the baby begins on solids soiled diapers can go right from the wetbag to the wash just add a presoak and extra rinse as you follow the washing instructions Once you are getting solid bowel movements you can use liners and shke solids off into a toilet Warning even if liner says flushable DO NOT FLUSH its not worth the plumming billThese diapers make cloth diapering as easy as disposable with the obvious  benefit I dont know why people are still using disposable diapers REALLY what a waste of moneyHERES THE INFO FROM THAT LINK IN THE BEGINNING OF MY REVIEWCurious About ClothGet the Skinny on Todays Cloth DiapersTodays parents make hundreds of decisions for their little ones with a combination of instinct friends advice and research Even with the recent surge in sales of new types of cloth diapers many parents remain unaware of the latest developments in cloth  Curious moms are going to the Internet to research but basic information is still somewhat hard to findThere have always been economic and environmental advantages to using cloth diapers Clearly having diapers that can be washed and used again saves a lot of money and keeps disposable diapers from filling up landfills Even the most expensive and fancy cloth diapering system will save the average family 1000 or more over disposables Unfortunately many moms today still envision cloth diapering as squares of cotton safety pins eek and plastic pantsCuteyBaby wants to help  Here we summarize the general categories of modern cloth diapers and give you the pros and cons of using each typeThe Wrap with Prefolds diaperBummis Whisper WrapThe closest thing to traditional cloth diapering of all the modern diapers The Wrap also called a Cover is waterproof typically PUL Polyester Urethane Laminate fabric with elastic edges Some Wraps put the PUL between layers of cotton for a very soft feel The Wrap usually closes with Velcro or snaps so you can adjust fit Absorbent layers  which could be cotton hemp bamboo or microfiber  are placed inside the wrap to hold liquid Some moms attach the absorbent layers with a Snappi closure A prefold just refers to the old kind of diaper with thickness down the centerHemp Babies FlatsSeveral manufacturers make squares Prefolds or Flats that you fold in thirds to use inside a Wrap Prefolds and Flats can be a variety of materials Cotton and hemp are popular At changing time some moms will just switch the absorbent layers and reuse the WrapCover if the baby is only a little wetPros Cheap  the least expensive of cloth diaper styles Flexible  Moms can adjust absorbency by adding more layersCons Putting them together requires extra time effortExamples Wraps Bummis Thirsties Imse VimsePrefoldsFlats Swaddlebees Bummis Green Acre Designs Hemp BabiesThe Wrap with Fitted diaperKissaluvs Fitted Cloth DiaperThis diapering method is similar to the Wrap with Prefolds approach except it has a fitted absorbent layer Several manufacturers make fitted diapers in cotton bamboo and other natural fiber blends The absorbent fitted diaper may have Velcro or snaps to close and the wrap goes over it to form a moisture barrierPros Better absorbency and comfort than Wrap with PrefoldsCons Sort of like putting 2 diapers on need to buy more sizes longer drying times than flatsExamples Fitteds Kissaluvs Swaddlebees Baby Beehinds ThirstiesWraps see aboveThe Pocket DiaperBum Genius Pocket DiaperPocket diapers are made with an outer PUL waterproof layer inside wicking layer and stuffed with washable absorbent pads called soakers doublers boosters from an opening in usually the back edge of the diaper It is the most common design because it can be loaded up with absorbent layers that stay relatively in place There is typically a soft interior material which gives the baby healthier skin and a dryer feel Pocket diapers are often onesize designs that can be adjusted to fit babies of different sizesPros Selection  Many options with snaps Velcro different soakers Adjustability  fits a wide variety of infants Absorbency can be adjusted by stuffing in extra soakersCons Requires disassembly before and restuffing after washing Some fleece insides may stain Onesize designs can be bulky at the small settings and may not fit up to potty training ageExamples Happy Heiny Fuzzi Bunz Bum Genius Smartipants Blueberry Rocky MountainThe AllInOneAllInTwo diaper AIO or AI2CuteyBaby AllinOne Cloth DiaperThese diapers are usually all one piece but sometimes have a snap in soaker making it an allintwo The easiest type to use they require little or no assembly and like all cloth diapers can be washed in a regular home washing machine Outer layer is waterproof and typically PUL polyester or nylon fabric and the inside usually includes a multilayer microfiber also called microterry or cotton soaker for absorbency Some AIOAI2 diapers come in sizes and other are adjustable onesize designsPros Simple  Very easy to use no stuffingassembly neededCons Often require longer drying times may not have enough builtin absorbencyExamples DreamEze GroBaby CuteyBabyDiaper DialogueGetting started with cloth diapers can be confusing Different manufacturers may call something by different names To help you sort things out here are a few of the most common termsSoaker The soaker is the highly absorbent portion of the diaper A soaker may be a completely separate piece that is either laid or snapped into the diaper or it can be partially or fully attached Soakers usually have multiple layers stitched together to form a long pad shape can be rectangular or contoured Also see DoublerDoubler A doubler looks like a pad and is an absorbent soaker that can be added to a cloth diaper if you are having leakage problems or for times when extra protection may be needed such as overnight It doubles the absorbency of the original soaker hence the nameBooster Like a doubler above but lighterduty Boosters boost the absorbency of a soaker hence the nameLiner This is a superthin paperlike layer that some moms like to put on top inside their cloth diapers Liners are disposable or flushable and usually come on a roll Liquids flow through to the diaper as usual but liners keep the poop from staining or sticking  you can flush or throw them away at each diaper changeSnappi A special T or Y shaped plastic closure to secure fitteds or contours like a fitted with no elastic or closure on the baby replaces diaper pins Snappis are not needed for Pocket or AllinOneTwo diaper stylesOnesize vs SizedFitted Some diapers have adjustability builtin others come in sizes Usually you sacrifice some comfort at the high and low end of the size range for Onesize diapers Sized diapers will give the best fit but you will need to buy more as your baby grows  Check out our Cloth Diaper Comparison chart to see how a size medium fitted diaper compares to onesize diapers in a few of the top diaper linesWet Bag Many moms like to have these washable waterproof fabric zipper bags for dirty diapers You can also just stash some plastic grocery bags in your diaper bag to bring home dirties Wet Bags come in a variety of sizes and large ones are nice to have near your changing area to hold the days diaper laundryFabricsPUL Polyester Urethane Laminate PUL is used as a waterproof outer or layer fabric for many Wraps Pocket and AllinOneTwo diapers 100 Polyester interlock is laminated could be 12 mil thickness on one side and becomes waterproof but remains breathable Good quality PUL can withstand very high temperatures and should last for 100s of washings Note we have heard both PUL and pull as pronociationsMicrofiberMicroterry Microterry fiber is a lowlint soft fiber that is ideal for use as a cloth diaper soaker doubler or booster It is the most common fabric used for Pocket diaper soakers Good quality microfiber has a velvety feel and typically contains 80 polyester and 20 polyamide fibers Microfiber is 34 times as absorbent as cotton for the same bulk and will dry fasterSuedecloth Used as a lining in many pocket and AllinOneTwo diapers suedecloth is typically 100 polyester woven material that has a soft feel It resists staining and wicks away moisture to the inside of the diaper  The fabric will not hold moisture making cleanup a breeze and keeping babys skin drier than cottonMicrofleece  Microchamois Thin soft fleece is used as a lining in some pocket diapers This is usually 100 polyester or sometimes recycled plastic fiber content Microfleece and microchamois pronounced microshammy have a soft feel against the skin and pull moisture in to the soaking layers They do stain more easily than other lining fabricsCotton Our old friend cotton still plays a big role in diapering Organic cotton is a popular soakerinside material and is used for fitted and contour diapers that require a cover Cotton is very slow to dry and may require up to 8 washes before it reaches full absorbency Organic cotton is grown without chemical pesticides which costs more but is kinder to the environment However organic and regular cotton perform the same in diaperingHemp fleece terry Hemp is stronger more absorbent and more durable than cotton and most other fabrics Hemp on its own is not soft enough for babys skin so most hemp fabrics are 55 hemp with 45 cotton Hemp also carries natural antibacterial properties Hemp requires several hot washes to reach full absorbency called prepping and it will shrink A LOT  usually in one direction Hemp absorbs like crazy and many moms swear by hemp DoublersBoosters see above for night time cloth diaperingBamboo fleece velour Bamboo has a silky texture and is very absorbent It is a naturally antibacterial fiber that will not lose its softness after countless washes Bamboo fleece and velour are used in fitted diapers and as interior diaper fabrics Along with hemp bamboo is kind to the environment due to it being easily renewable and bugresistant Bamboo and hemp are still quite expensive fabrics and that will show in the price of diapers that use themWool Many experienced cloth diapering moms swear by wool outer layers Wool requires some special care to keep its water resistance and I wouldnt recommend it for a mom who is trying out cloth diapering for the first time However if you are really dedicated to using natural fibers this is the only one with builtin moisture resisting qualitiesWhat do you do with the poopModern diapers do NOT get soaked in an icky pail of wet stuff Thank goodness Most cloth diapers will have the instruction shake off solids and then wash in hot water with 13 the normal amount of liquid detergent If you are new to cloth diapering I recommend getting some disposableflushable liners with your first purchase If you line the diapers then you just lift off the little liner thing and trash or flush it If no liner then you sort of shake poops out into the toilet Some moms like to have their dirty diaper bin in the bathroom So at changing time they take off the dirty dipe set it aside put on fresh diaper  then walk into the bathroom  shake out  flush leaving the dirties in a container or laundry bag in the bathroom Other moms myself included have two bins by the changing table  one for trash shake out or put liner in there and one for the diaper laundry You can wash every 13 days depending on preference and how many diapers you haveWant to try it outLots of cloth diapering moms myself included started out just wanting to cut down on trash  expenses and were willing to test drive cloth for parttime use If you want to try cloth diapering pick the type of diaper that suits you best and buy enough for one days use usually 610 diapers or 46 wraps plus prefoldfitted Maybe pick two brands and buy a few of each so you can see what you like best Once you see that its no big deal you can expand your collection  or stash of diapers as we say If you dont like it there are several sites where people buy preowned diapers in good condition Simply take a quick photo post your items for sale on Diaper Swappers or eBay and make your graceful exit from clothNote If you have a cloth diaper retailer near you DO go to a specialty shop The people there can be extremely helpful and will answer any questions you have about the different types of cloth diapers\n",
      "\n",
      "\n",
      "4 with probability being positive1.0)\n",
      "Great Pram RoccoI bought this pram from Europe unfortunately it was not available on Amazon back then and cost me tons of money This pram is so great Ive decided to give my opinion on itFirst of all let me notice that I cant imagine how to raise kids without pram I have three kids and it was the most useful and practical purchase for baby I made even I paid a fortune for it back then I used it everyday all year around When you have kids specially newborns and toddlers you dont get much excise plus I was getting really tired staying at home So I compensated it by long walks around neighborhood with our first baby and then taking toddlers to playground or for a walk while baby was sleeping in pram or I would just sent helper out with kids and enjoy some quite time at homeLet me tell you one thing that out weights everything else babies sleep much better outside then inside at home I guess the fresh air and a lot of oxygen make the trickso whenever it was possible I took them outside I was not happy using a car seat or other strollers for that as I worried about their back and spine The pram from other side keeps their back in correct position as it has flat and firm bottom I think none of the strollers that you convert from one position to another provides such a nice flat surface for baby specially for newborns to sleep soundly for few hours When our first daughter got bigger we used this pram with seat unit and visited a lot of places like zoo botanic garden and parks The amortization is great and it gives very smooth ride while kids in other strollers were trembling all the wayHere are few things I really love about this pram Smart  It has the smoothest ride on bouncy sidewalks and park trails  I guess it is because of prams suspension and large air pumped wheels Bassinet is large enough that I use it for quite long time It even fits now my 5 months old in snowsuit bundled in wool sleeping bag and there is some space leftFolded chassis You can detach bassinetseat unit and fold the chassis just in few minutes Cargo of our sedan provides enough space to put chassis and seat there the bassinet is too high to put into the cargo with chassis We also used to detach the bassinet with baby sleeping in it and bring it inside it has handles to carry when the weather gets really rough or when we have to go home and I dont want to wake her up The seatbassinet can face both ways Its not so important for bassinet but very nice for seat unit as babies grow they want to see more and enjoy the ride observing The back of the seat and the footrest can be adjusted up and down and they can make quite a long flat surface for toddler to sleep Rain cover I paid extra but looks like its included here allows you to be safe in any weather condition I used it during snow and windy time also You can easily adjust height of the handle it was great for us because we my husband and I are really different sizes The metal basket provides enough space to put some things when you out and its very convenient I actually used it to take some toys on playground with usBottom line I think Rocco is an excellent pram stroller and I use this pram all the time and I dont know what I would do without it The only thing I regret they didnt sell it here before\n",
      "\n",
      "\n",
      "5 with probability being positive1.0)\n",
      "We bought this stroller after selling our beloved BOB rev on craigslist We used the BOB for 9 months for my son but it just wasnt practical I dont jogrun it didnt have a big basket and was very bulky to take into stores quickly However I did love how it unfolded easily but it was heavy to fold up and lift into my small trunk myself Overall I didnt realize what Id need in a stroller until AFTER I had my son Live  learn We did love how easily the BOB would go over pretty much anything Nevertheless we sold it and after extensive research on strollers we decided it was between the uppababy brand because of the large baskets OR the city mini GT because of its easy fold up design After looking over both strollers I decided on the uppababy cruz because of a few main factors It SITS UP I cant tell you how much my son hates being reclined when he is just riding in the stroller and not napping The BOB and the City Mini had a slight recline and he always tried sitting more upright The uppababy sits up like your sitting in a chair He loves it It also reclines nearly flat The foot rest can be positioned upwards so that its as if he is sitting on the floor because he is so upright and his feet are out in front of him Also the LARGE basket was a HUGE plus I cant tell you how great evvvvverything fits in there Its perfect and soooo easily accessable The city mini gt did NOT have a big enough basket for me and there for was not the right choice for me despite the very easy fold up The true test for us was this past weekend when we took it to Maine on a camping trip YES it is no BOB However I thought it was just fine over the rough bumps of a campground Bumpy ride Yes But nothing my 10 month old couldnt handle and honestly It wasnt that bad We took it to old orchard beach and as I suspected it didnt roll over the sand like my good old BOB did But it rolls really nicely on pavement and I just carried my son over to the beach and I figure he will be 1 soon enough and walking so I wont need the stroller on the beach anyways I also love the reversable seat that comes in handy because my son is going through some sort of attachment to mommy thing so he likes being able to face me from time to time I also love that the Cruz is a less expencive option to the Vista The vista is much much heavier and a little bigger And since we didnt need the extras that the Vista comes with this was the better option for us Also I called Uppababy and asked about a belly bar and toddler board for the cruz and they told me that BOTH would be available The belly bar will be out this summer and the board is in producton huge plus So for us this stroller was a hit but as anything goes you MUST research what YOU need in a stroller and figure out whats important to you Some people dont care about a big basket and in that case id for sure go with the City mini gtUPDATE1713We are in LOVE with this stroller still It fits great in the trunk of my saturn ion and how I fold it is I take the seat off first takes 1 second and then fold the frame I found it fits and folds better that way plus some times my son likes to sit forward and sometimes backwards still so I just set up the frame and then throw the seat on top depending on which way i think he wants to sit The basket is just my fave feature I cant tell you how happy I have been with the uppababby My son is 16 months old and loves sitting in his uppababy well worth it still\n"
     ]
    }
   ],
   "execution_count": 229
  },
  {
   "metadata": {
    "ExecuteTime": {
     "end_time": "2024-11-08T11:29:26.929636Z",
     "start_time": "2024-11-08T11:29:26.926849Z"
    }
   },
   "cell_type": "code",
   "source": [
    "i = 1\n",
    "for op,prob in zip_neg_sorted[0:5]:\n",
    "    print(f\"\\n\\n{i} with probability being negative {prob}:\\n{op}\")\n",
    "    i += 1"
   ],
   "outputs": [
    {
     "name": "stdout",
     "output_type": "stream",
     "text": [
      "\n",
      "\n",
      "1 with probability being negative 1.0:\n",
      "Please see my email to the companyHelloI am writing to voice my familys anger over your unsafe cheap cosleeper  If you recall I had a problem with my newly purchased cosleeper back in May which I immediately called about and was told to send the frame back  At that time I asked to speak to a supervisor about the situation and was told that I would be contacted shortly  However Mayra was the only one who I was able to speak with after numerous attempts to be put in contact with the supervisor  After a huge delay due to mistakes on your end I finally got the cosleeper sent back to the company after speaking with Veronica on June 13thAt this time June 13th I asked to speak with the manager of the company and Veronica told me that Sharon was not in at the time but would be in later that day  I obviously never heard from Sharon or anyone else from this company for that matter from that point on  I was inquiring to speak with the manager after voicing my concern over just repairing the frame instead of receiving a new productWe received the frame shipped back to us without so much as an email or follow up from Arms Reach  The entire process to get our frame back took over a month from the time I first contacted customer service  I had initially asked for a replacement frame since our daughter had been used to sleeping in it by this time and I did not want to completely disrupt her sleep pattern while waiting for the repair which it did  The frame came back to us in a box with one sheet of paper which did nothing to describe what was wrong with the frame or what was done to repair itI use the term repair in disgust since it clearly was never properly repaired  We assembled the cosleeper again according to exact instructions in the manual  Two nights later I noticed that now if I barely touched the rail of the cosleeper nearest our bed that it would collapse and had to be pulled back up into the lock position  Obviously we felt very uncomfortable using the cosleeper but after having dealt with your awful lack of customer service the first time around I did not waste my time trying to reach Mayra Veronica or Sharon againTo avoid the problem of the collapsing side rail we have been careful to not touch or even brush against it for fear that it would collapse with our daughter in it  Without touching it it does stay up  Tonight July 23rd however I laid my daughter down from the other side of the cosleeper all together and the other side rail immediately collapsed when I laid her in the cosleeper  She was in it  I had not put any pressure on the side rail it just collapsed  After taking her out waking her up in the process and moving her elsewhere to be put to sleep for the night I attempted to relock the side rail  It took several tries and does not seem secure at allI can not believe that your remedy to fix the situation of a faulty cosleeper was to send our same frame back to us repaired which still breaks and is worse off than when I first contacted you  I am so turned off by your company not only because of the safety hazards associated with putting a baby in this piece of crap product that you make but the complete lack of care from the supervisor or manager You would think that someone would be concerned that their products for babies are faulty and unsafe  These are babies we are talking about here  Not pets not adultsinnocent babies who need the safest place possible to sleep  Your company disgusts me and I am honestly surprised that you are still around  Not for long I am sure\n",
      "\n",
      "\n",
      "2 with probability being negative 0.9999999999999999:\n",
      "The first monitor broke within 1 month of use the talk back feature would not work We sent it back to Summer Infant and they sent a replacement 4 days after using the replacement the monitor stopped working in the middle of the night I woke at random to check on my newborn baby only to discover that it was not working I would not have been able to hear the baby if she had cried during that time The monitor would not turn on or off just had a blue screen We were going to send it back but then when the battery died and we plugged it in the next day it suddenly worked again We gave it another shot 2 weeks later the same thing happened and the monitor stopped working in the middle of the night while we were sleeping I called Summer Infant and there was no apology for the 2 failed products They were not concerned that this safety tool had failed I asked for a refund but was told that I could only exchange it for another of the same model Despite having had 2 failed monitors in the same month I said that I did not want the same model as it was unreliable and not safe I had to argue with the customer service rep who refused to let me speak to a supervisor or manager Finally she said they would bend the rules and let me get a different monitor but I had to pay the difference in price The price she quoted me for the alternate monitor was 35 more than the cost of the monitor on AmazoncomLong story short this monitor is crap and cant be trusted The company does not seem to care about customer satisfaction or child safety Nor do they stand by their products DO NOT BUY THIS MONITOR GO WITH THE MOTOROLA BRAND Better product or significantly better customer care\n",
      "\n",
      "\n",
      "3 with probability being negative 0.9999999999998953:\n",
      "Im sure that this product passed all the formal government testing for safety and that Evenflo did their due diligence but I would NOT recommend this product to be bought by anyone  It is either unsafe in design or perhaps poorly constructed with poor manufacturing tolerancesShort story this gate completely fell over and collapsed on the very first investigation from our 10 month old resulting in him landing flat on his back and hitting his head on our hardwood floors  Thankfully he did not have any serious injuries and stopped crying after 23 minutes but I do not recommend buying this gate and will promptly be returning it to AmazonLonger story as other reviews have mentioned setting up this gate is somewhat complex  I actually really LIKED the look and design of the device so I was happy with it when we were putting it up  One immediate concern I noticed is that all the tension pieces screw type device at the end of each rigid pole are solid plastic  My guess is that this plastic would fatigue in time under the pressure and not hold up  Ours did not last that long to try the longer term durability  Anyway each of the rigid poles at the top and bottom of the gate can extend back and forth freely like a trombone but with a ratchet type lock in the center  This was another concern when I was installing it because the release on the latch can easily be felt through the fabric and I thought to myself what would stop the baby from pressing or bumping that same latch right through the fabric  Again the gate did not last long enough to test my concern  As you extend each rigid pole during installation the ratchet catches and locks the pole from going back in the wrong direction unless you press the release button  Here is the trouble though  Either through poor design or poor manufacturing tolerances the latch in the ratchet on the pole ONLY holds the extension lock in place IF the pressure to collapse remains at a perfectly linear angle example it holds firm as long as you only try to push the rod straight back into the direction you pulled it out of  If you apply even a slight amount of diagonal pressure though there is enough wiggle room for the poles to be outside of teeth in the ratchet catch resulting in the pole now sliding with no resistance regardless of if you have pressed the release button or not  Without that tension the gate can freely fall to the ground againSome may claim that I made an installation mistake  For reference I am methodical about reading manuals and spend far MORE time on installing anything even nonsafety related items than the average adult probably would  For something this important to our babys safety I spent more than 20 minutes reading the manual measuring the distances of our opening installing the gate and even doing my own test of putting pressure against the gate to simulate the pushing and pulling a toddler would do  The gate held up to my testing but failed on the very first trial with babyAfter our accident I was able to easily repeat the accident conditions again on both the upper pole which failed and even on the lower pole which HAD remained intact when our baby fell  The latches hold if you only extend back and forth pressure in or out in the exact same direction but again be WARNED that there is enough slack room inside the metal rods to easily defeat the ratchet lock mechanism  I DO NOT recommend anyone buy this product\n",
      "\n",
      "\n",
      "4 with probability being negative 0.9999999999998705:\n",
      "This is the first review I have ever written out of the many things I have purchased through amazon  I write this because I feel very strongly about the poor quality levana products and feel people should have a heads up about what they are gettingWhen my baby was first born I originally bought the basic levana babyview 20 and it worked well until right after 1 year  The antennae broke off exposing the wire underneath it the kickstand on the monitor broke offso I contacted levana customer service  I couldnt get through to them via phone so I emailed  Didnt hear back for a few weeks then emailed them again  They pretty much told me that because it had been longer than a year it was a too bad so sad situation  The monitor seemed to function for several months and I decided instead of buying a new one I would try to wait it out  Then shortly thereafter it was making a very loud noise that I couldnt sleep with it on  The monitor was not mishandled or droppedjust generally used and it still fell apart so fastAfter looking and looking for a new monitor I kept coming back to this levana item because of the lower price with all the bells and whistles talk talk to baby temperature etc  Originally when I first started looking I remember there being a lot more reviews with half negative half positive ones for this item but after about a week all the reviews were wiped out and there were only 4 reviews with 5 stars  I fooled myself into thinking maybe this was a much better product and for the price and free shipping I decided on itIT IS A TERRIBLE MONITOR  IF YOU WANT TO SEE FROZEN IMAGES OF YOUR BABY AND NOT LIVE VIDEO DO NOT GET THIS MONITOR  The battery life is terrible the image quality is poor blue blurry images The talk to baby function makes your voice sound like a monster  I dont even use it because is TERRIFIES my baby  THe only nice thing about it is tells you the temperature of the roomI am in the process of contacting CSN to see if I can return this  I wont be purchasing levana again  Maybe I got a bad monitor or maybe they just put our poor products assembled in China You get what you pay for and if you think this is a good deal think againAlso shady that Amazon removes reviews at their lesiure  Who knows they might not like this honest review and not even post it in which case I wont purchase anything from amazon again\n",
      "\n",
      "\n",
      "5 with probability being negative 0.9999999999989616:\n",
      "I thought it sounded great to have different tips for different body areas  But its impossible to keep my son still enough to get a reading with the underarm one and Ive gotten more Er 1 readings rectally than I have gotten temps  I know hes a squirmy kid but the tip stays in each time and the thermometer still doesnt get a reading  That makes me wonder about the accuracy of the ones it does giveEdited on 12711 to add  Today it took me 3 hours to figure out that the extremely annoying high pitched whine coming from some object in my sons room was in fact coming from this thermometer It nearly drove me insane first It had to be from the battery being dead but this was not mentioned in the instruction book I cannot stress to you enough just how headsplittinglyannoying this was I hope that whoever designed this has to listen to this sound for the rest of their natural life and that they live to be 150 I had to check everything in the general area of the sound because there wasnt any blinking light on the thermometer to call my attention to it specifically I unplugged the clock  nope not that I checked the phone line  nope not that I looked for a bullet hole from a hunter  nope not that I moved the antenna for our satellite radio  nope not that I turned off every single electronic device in the room  nope wasnt those I was finally removing every object from the room when I discovered that the thermometer was the infernal device for which I was looking The noise stopped when it hit the wall I am well known to throw like a girl but I threw this  device hard enough to pop off the battery cover no I didnt have a COIN in the bedroom of my toddler with which to turn it You have absolutely no idea how much consternation this caused in our house this morning My head is still splitting from the noise this thermometer made Our dogs still wont go upstairs I will NEVER again buy something from Safety 1st \n"
     ]
    }
   ],
   "execution_count": 230
  },
  {
   "metadata": {},
   "cell_type": "markdown",
   "source": "> 📝 <span style=\"color:lightblue\">Komentarz:</span> Zobaczmy więc na zdania, widzimy, że rzeczywiście wydają się być sensownie sklasyfikowane, jedne są przytłaczająco pozytywne, a drugie negatywne. A więc zadanie klasyfikacji, na pierwszy rzut oka przebiegło pomyślnie. Pragnę zaznaczyć również zirytowanie ostatniej piątej opinii negatywnej, ta osoba naprawdę była zła na ten termometr. "
  },
  {
   "metadata": {
    "ExecuteTime": {
     "end_time": "2024-11-08T11:29:35.995572Z",
     "start_time": "2024-11-08T11:29:26.975509Z"
    }
   },
   "cell_type": "code",
   "source": [
    "#d) \n",
    "first_accuracy = model.score(x_vec_test, y_test)\n",
    "print(first_accuracy)\n",
    "time_first_model = timeit.timeit(lambda: model.predict(x_vec_test), number=3000)"
   ],
   "outputs": [
    {
     "name": "stdout",
     "output_type": "stream",
     "text": [
      "0.9316062486881953\n"
     ]
    }
   ],
   "execution_count": 231
  },
  {
   "metadata": {},
   "cell_type": "markdown",
   "source": "> 📝 <span style=\"color:lightblue\">Komentarz:</span> Model mierzy dokładność na podstawie tak zadanego wzoru $Acc_{M} = \\frac{ilość-poprawnie-odgadniętych}{ilość-próbek}$"
  },
  {
   "cell_type": "markdown",
   "metadata": {},
   "source": [
    "## Exercise 5\n",
    "In this exercise we will limit the dictionary of CountVectorizer to the set of significant words, defined below.\n",
    "\n",
    "\n",
    "a) Redo exercises 2-5 using limited dictionary.   \n",
    "b) Check the impact of all the words from the dictionary.   \n",
    "c) Compare accuracy of predictions and the time of evaluation."
   ]
  },
  {
   "cell_type": "code",
   "metadata": {
    "collapsed": true,
    "ExecuteTime": {
     "end_time": "2024-11-08T11:29:36.013699Z",
     "start_time": "2024-11-08T11:29:35.999471Z"
    }
   },
   "source": [
    "significant_words = ['love','great','easy','old','little','perfect','loves','well','able','car','broke','less','even','waste','disappointed','work','product','money','would','return']\n",
    "\n",
    "x_train, x_test, y_train, y_test = train_test_split(X,y, test_size=0.2, random_state=50)"
   ],
   "outputs": [],
   "execution_count": 232
  },
  {
   "cell_type": "code",
   "metadata": {
    "collapsed": true,
    "ExecuteTime": {
     "end_time": "2024-11-08T11:29:42.433325Z",
     "start_time": "2024-11-08T11:29:36.034228Z"
    }
   },
   "source": [
    "#a)\n",
    "vectorizer = CountVectorizer(vocabulary=significant_words)\n",
    "vectorizer.fit(x_train)\n",
    "x_vec_train = vectorizer.transform(x_train)\n",
    "x_vec_test = vectorizer.transform(x_test)\n",
    "print(significant_words)\n",
    "print(x_vec_train.todense()[:10])"
   ],
   "outputs": [
    {
     "name": "stdout",
     "output_type": "stream",
     "text": [
      "['love', 'great', 'easy', 'old', 'little', 'perfect', 'loves', 'well', 'able', 'car', 'broke', 'less', 'even', 'waste', 'disappointed', 'work', 'product', 'money', 'would', 'return']\n",
      "[[0 0 0 0 0 0 0 1 0 0 0 0 0 0 0 0 0 0 0 0]\n",
      " [1 1 1 0 3 1 0 0 0 0 0 0 0 0 0 0 0 0 0 0]\n",
      " [1 1 1 1 0 1 0 0 0 0 0 0 0 0 0 0 0 0 0 0]\n",
      " [0 2 1 1 0 0 0 0 0 0 0 0 0 0 0 0 0 0 1 0]\n",
      " [0 0 0 0 0 0 0 0 0 0 0 0 0 0 0 0 0 0 0 0]\n",
      " [0 0 1 0 0 0 1 0 0 0 0 0 0 0 0 0 0 0 0 0]\n",
      " [0 0 0 0 1 0 0 0 0 0 0 0 0 0 0 0 0 0 0 0]\n",
      " [0 0 0 0 0 1 0 0 0 0 0 0 0 0 0 0 0 0 0 0]\n",
      " [0 0 0 0 0 0 1 0 0 0 0 0 0 0 0 0 0 0 0 0]\n",
      " [0 0 0 0 0 0 0 0 0 0 0 0 0 0 0 0 0 0 0 0]]\n"
     ]
    }
   ],
   "execution_count": 233
  },
  {
   "metadata": {
    "ExecuteTime": {
     "end_time": "2024-11-08T11:29:42.577673Z",
     "start_time": "2024-11-08T11:29:42.456178Z"
    }
   },
   "cell_type": "code",
   "source": [
    "model = LogisticRegression(max_iter=10000, solver='newton-cholesky')\n",
    "model.fit(x_vec_train, y_train)\n",
    "\n",
    "best = sorted(zip(model.coef_[0], significant_words), key=lambda x: x[0], reverse=True)\n",
    "worse = sorted(zip(model.coef_[0], significant_words), key=lambda x: x[0], reverse=False)\n",
    "\n",
    "print(\"Najlepsze słowa:\")\n",
    "for coef, word in best[:8]:\n",
    "    print(f\"Słowo: {word:<20} Współczynnik: {coef:.4f}\")\n",
    "\n",
    "# Najgorsze współczynniki\n",
    "print(\"\\nNajgorsze słowa:\")\n",
    "for coef, word in worse[:8]:\n",
    "    print(f\"Słowo: {word:<20} Współczynnik: {coef:.4f}\")\n"
   ],
   "outputs": [
    {
     "name": "stdout",
     "output_type": "stream",
     "text": [
      "Najlepsze słowa:\n",
      "Słowo: loves                Współczynnik: 1.7044\n",
      "Słowo: perfect              Współczynnik: 1.4787\n",
      "Słowo: love                 Współczynnik: 1.3657\n",
      "Słowo: easy                 Współczynnik: 1.1503\n",
      "Słowo: great                Współczynnik: 0.9562\n",
      "Słowo: little               Współczynnik: 0.4864\n",
      "Słowo: well                 Współczynnik: 0.4807\n",
      "Słowo: able                 Współczynnik: 0.1776\n",
      "\n",
      "Najgorsze słowa:\n",
      "Słowo: disappointed         Współczynnik: -2.3656\n",
      "Słowo: return               Współczynnik: -2.0564\n",
      "Słowo: waste                Współczynnik: -1.9921\n",
      "Słowo: broke                Współczynnik: -1.6426\n",
      "Słowo: money                Współczynnik: -0.8778\n",
      "Słowo: work                 Współczynnik: -0.6464\n",
      "Słowo: even                 Współczynnik: -0.5375\n",
      "Słowo: would                Współczynnik: -0.3420\n"
     ]
    }
   ],
   "execution_count": 234
  },
  {
   "metadata": {},
   "cell_type": "markdown",
   "source": "> 📝 <span style=\"color:lightblue\">Komentarz:</span> Według dokumentacji: \"'newton-cholesky' is a good choice for n_samples >> n_features, especially with one-hot encoded categorical features with rare categories.\". Co prawda, mamy \"bag of words\", ale dalej spełniamy pierwszą zależność. "
  },
  {
   "cell_type": "code",
   "metadata": {
    "collapsed": true,
    "ExecuteTime": {
     "end_time": "2024-11-08T11:29:42.664950Z",
     "start_time": "2024-11-08T11:29:42.596838Z"
    }
   },
   "source": [
    "test_predicted = model.predict(x_vec_test)\n",
    "prob_good = model.predict_proba(x_vec_test).transpose()[1]\n",
    "\n",
    "best_rev = sorted(zip(prob_good, x_test), key=lambda x: x[0], reverse=True)\n",
    "worse_rev = sorted(zip(prob_good, x_test), key=lambda x: x[0], reverse=False)\n",
    "\n",
    "i = 1\n",
    "for rev in best_rev[0:5]:\n",
    "    print(f\"\\n\\n{i} with probability being positive {rev[0]})\\n{rev[1]}\")\n",
    "    i += 1\n",
    "#hint: use the results of b)"
   ],
   "outputs": [
    {
     "name": "stdout",
     "output_type": "stream",
     "text": [
      "\n",
      "\n",
      "1 with probability being positive 1.0)\n",
      "Check and recheck the KTan for size issues before letting your guard down and wearing NO ISSUES OCCURED however I thought I was good to go and then realized that this large was different than the large I had been given before it Odd but fabric This makes the moby wrap appear like a midevil torture devise and bonus you wont have to worry about some BabyWearing freak watching you in the parking lot at the mall as you struggle to turn a bolt of fabric into what the KTan has simplifiedseriously Dad approved and if the moby is your thing thats cool just perhaps realize that its not as easy as everyone thinks to wrap that amount of fabric around yourself evenly snug comfortable and without mummifying yourself and lord help you your baby  Another bonus to the KTAN issue with baby takes only a second to move her out of the KTAN but in a moby We thought for the first two days after returning the moby 34have you seen Katy34love it love it love it love it love it love it love it love it love it love it love it love it love it love it love it love it love it love it love it love it love it love it love it love it love it love it love it love it love it love it love it love it love it love it love it love it love it love it love it\n",
      "\n",
      "\n",
      "2 with probability being positive 0.999999999994649)\n",
      "Ive posted an UPDATE at the endFirst let me state that I have been buying products from Amazon for the past 12 years  I love Amazon  I love the reviews because they have always played a part sometimes more sometimes less in the products I decide to purchase  For some reason I have never left a review I know  Until now  I feel such an urge to express how much my husband and I love this strollerMy first son will turn 7 next month  We purchased an Evenflo strollercar seat travel system for him in 2005  We hated it  We used the car seat but never EVER used the stroller  It was big bulky heavy and a pain in the rear  I think my husband hated it even more than I did  I wore my first son everywhere instead of putting him in a stroller  Fast forward to 6 years later and we have our second son in September of 2011  I researched for months  I wanted to find a stroller that had several qualities  Looks  As shallow as it may seem I wanted a stroller that wasnt ugly  I wasnt interested in any fancy or cutesy designs on the fabric  I wanted simple and sleek  I wanted something that my husband would not mind pushing around either  Weight  I wanted something that was not super heavy  QualityDurability  I was looking for something that would hold up through months and months of theme park visits and ultimately through daily runs  Ease  Meaning that I wanted it to fold easily and be a stroller that I could easily put in and out of my car without looking like my back was going to give out and I would collapse   Price  I wanted something under 100  I find that the more expensive a stroller is the sleeker it looks a shame that more less expensive strollers arent more attractive  I wanted the look and the quality for under 100  Able to use with a Graco car seat  I knew I did not really want to purchase another combo travel system of any kind really  Canopy  Needed a bigger one to protect from the FL sunSo with these key things in mind I researched for hours upon hours for the last couple months of my pregnancy  I still held off  I wanted to make the right purchase and not settle for another crap stroller that would be a huge disappointment  When my son was a month old I pulled the trigger and purchased the Joovy Scooter Stroller in Greenie  BEST DECISION EVER  We live in Florida  Below the freeze line in FL  an hour south of Tampa on the water  Here is my take on the Pros and Cons of the Joovy  I hope it might help out someone else who is on the fencePROs1  Cost  9999  True it was just one penny shy of my limit I set  But it was under  I had a giftcard from a family member so the stroller really only cost me 4999  A steal2  Assembly  This was almost totally assembled when I received it  It has been about 8 months since I purchased this so my memory may fail me on the exact details of the assemblybut I seem to remember only installing the brake bar and the wheels others may recall more but the fact is that it was super easy overall and I did not need to wait for the assistance of my husband  I noticed right away that I was lacking the right size hub cap for one of the back wheels  This is only a cosmetic feature  It does not in any way mess with how the stroller would function but still I felt that I should call the Joovy customer service to inquire  I dont remember waiting at all on hold  The lady I spoke to was super friendly and practically no questions asked she Fed Exed me a couple of hub caps for free  I got them in a couple of days3  Ease  It does take both hands to fold the stroller up but it is super easy after getting the hang of it  It only took me a couple of tries before I became a pro  No struggling in parking lots looking like the stressed out parent that wants to pull an Office Space on the stroller with a bat  There was an Up All Night episode that dealt with beating a stroller to pieces in a parking lot  I think all of us as parents have been there at one point or another with some piece of baby equipment  It unfolds so easily its ridiculous  I love it  You just pull the handles up and thats that4  Maneuverability  Some people had mentioned that they wish the wheels werent plastic  It is true that they are indeed plastic  But I have never had a problem with them  My stroller feels like its gliding on ice for the most part  Only a couple of times have the wheels gotten stucktangledwhatever  I would not even consider this an issue but felt it was worth a mention at least Seriously in 8 months it may have happened twice  Thats it And this stroller has had a LOT of mileage5  The handles  There seems to be a discussion about the handles being rough  My husband nor I have EVER had an issue with this  The handles are great  We live 1 hour and 15 minutes away from Disney World and had annual passes  We went at least two weekends a month spending 12 hours a day at the parks  We just purchased annual passes to Universal recently and spend just as much time there  We have never received a blister from the handles and never felt that they were rough  They have a nice secure grip making it easy to maneuver through crowds and onehanded love the design of the handles  I am not exaggerating when I say we spend 12 hour days at the parks  The stroller makes it such a breeze  I also wear my baby some in the Ergo Performance in Spring Green also purchased off Amazon the green color is a pretty close match to this stroller for anyone wondering but he really loves this stroller  I also run at the park 5 or 6 times a week with this stroller  No it is not listed as a jogging stroller but it works perfectly for me  I run anywhere from 14 miles at a time each day and have never had an issue  I run mostly with only one hand on the handles and it turns beautifully as I run6  Durability  What can I say  I think Ive already said it all  This stroller has held up wonderfully throughout all of our theme park adventures and through each of my morning runs at the park  I have no complaints7  Looks  I have to say this stroller is beautiful  I adore it  It is sleek modern slim but durable  The Greenie color is GORGEOUS its my favorite color And I can find it easily at the theme parks8  Basket  There is PLENTY of storage underneath in the oversized basket  We can fit a big diaper bag blankets toys a purse and more9  Reclining  The seat reclines very easily  If you recline it as far back as it will go it makes changing diapers easy  When my son is awake and wants to look around I put him in the high back seating position  If he wants to sleep I just recline  Not much to it  Pretty simple and easy10 Car Seat  I had no problems at all attaching our Graco car seat to this stroller when my son was younger no car seat adapter needed  We dont need to do this anymore but it worked great when we did11 Weight  It is still a little heavy but honestly I have no problem lifting it in and out of my Element or my husbands Accord  It folds up nicely and lies pretty flat  Im 55 and 115 lbs  I have no problem lifting this  Its hard to explain without you seeing it in person but the stroller is pretty slim  It is not bulky like most12  Foot brakes  I have never had a problem with my feet hitting the brakes even on all my runs  Neither has my husband he is 6 tall  The brake works great as it should13  Foot Rest  This is a cool feature for the little one14  The CANOPY  The canopy on this is AMAZING  It is super large  I love it  Like Ive already mentioned we are in the FL heat all year long  This canopy is awesome at keeping my little guy protected from too much sun  I also like the clear window I can look through at him which I like to do when I am running to see if he fell asleep or not 15 Extra pockets  There are side pockets for your little one to store extra toys or as I do I put his bottles there and take them out as he needs them  There is also a large zippered pocket on the back of the stroller16  Cup Holder  I rarely use the cup holder as a cup holder  I usually use it to hold my phone as I run but it does have a cup holder17  The fabric  Love it  It has not faded even in the FL sun  It is comfortable for my son and easy for me to wipe up or to shake the sand off as we have lots of beach visits  While I wouldnt consider this the best stroller to push through sand we have done it  We live where the beaches are super soft sand so you have to pop a wheelie with the front wheels being totally air borne to push it through but we have done it several times  Also the rain seems to roll right off the fabric mostly  The fabric comes off for washing too18 Extras  My son LOVES propping his foot up on the bar as we stroll while Im walking or running with him  Also we love the super padded cushions on the buckles for his chest  And this buckles in such a way that would be harder for a toddler to figure out I would think but super easy for parentsCONsI dont have any  The only con is not buying this You cant beat the quality for the money hereThis is my favorite stroller I have ever used  My husband agrees  It is so easy to push along on flat or bumpy surfaces  I recommend this to all of my friends that are having babies  This was my very best purchase this time around  We have been so happy with it and our 9 month old son also seems to enjoy itUPDATE 91412  Im now successfully running over 6 miles at a time with my baby almost 1 year old boy in this stroller I run a minimum of 3 milesday 5 days a week but I have one longer run each week also I love it  The wheels have had a LOT of mileage on them and they have held up quite well so far at some point I might have to replace them as I am constantly upping my mileage  So far in the 14 days in September I have run over 42 miles and walked over 25 miles while pushing this Joovy  I dont understand the rough handles comments at all  Ive never ever had a blister or any complaints about the handles  They work out so well for me when I run because they give me great control mostly I run with only one hand on the handles  Also I get so many compliments on the looks of this stroller\n",
      "\n",
      "\n",
      "3 with probability being positive 0.9999999968561106)\n",
      "We bought this stroller about 2 weeks ago I absolutely love it I have a 3 year old and a 5 month old They both fit in the stroller great My 3 yr old was so excited about this stroller He loves the color blue the canopies the UV shade everything He is looking forward to using the boot this winter I love love love the big basket Yes there is a bar across it However I am able to get a backpack in over the bar To take it out we just unsnap the back of the basket and pull the backpack under the bar It really is easy The stroller steers well I have not noticed it pulling to one side despite the 15 pound weight difference between my boys We have not used the rain shield but the UV shade is great The canopy will cover the whole front of the stroller but the UV shade keeps the boys shady when they want to be able to look out The infant boot works well It is meant to go across the whole front but is possible to use it on just one side The harness is easy to adjust We were using the Combi Citty Savvy single It had the worst harness adjusters The Maclaren Techno uses the same crappy adjusters On the Tango you just slide the clip up or down It is simple and it stays put The harness fits both of my boys The seats recline nicely the canopies are huge The stroller is easy to steer and the handle is comfortable I have done a little onehanded steering but that is not easy It is a double stroller after all The Tango is a great looking stroller I have read reviews in which people talked about wanting a stroller that looked good I thought that was silly However we have gotten so many comments on this stroller I have to admit that it is a little flattering Silly but true Someone complained about having trouble opening the stroller It is challenging at first We finally figured out that you have to push down on the little handle on the side of the stroller You pull that handle to close it and push it to open it Once you figure that out it is super easy to open My one complaint is that the stroller is pretty large when folded I have two carseats tethered in the back of my 2004 Odyssey In order to get the stroller in I have to loosen one of the tethers first We put the stroller under the tether then tighten the tether I am able to fit bags in front of and beside the stroller but it takes up A LOT of room We are going out of town later this month and I have no idea how I am going to fit in our luggage with the stroller I am considering strapping the stroller on the roof So if a small fold is a must go with the Combi or McLaren I thought both of those were rather flimsy though The McLaren was VERY narrow and had shallow seats We decided we would just live with the large fold and get the Zooper I am SO glad we did It is well worth the money\n",
      "\n",
      "\n",
      "4 with probability being positive 0.9999999420275592)\n",
      "I got this stroller for my daughter prior to the birth of her first baby Heres what she has to say about the BAgileI would give 45 stars if I could I have had the bagile since my son was born almost eight months ago and overall we are very satisfied with this stroller From my test drives of other strollers and watching my friends struggle with their more complex stroller systems it seems that every stroller has some issues  but this stroller seems about as good as they come We use it for long walks through the park quick errands in the car and when traveling I originally wanted the Uppababy Vista  I liked the idea of the bassinet and the seat switching directions I now know that I would have barely used either of these features and am thankful my father got us this stroller before we splurged on the VistaOk the pros The weight This thing is so light I easily pull it out of the trunk with one hand when I have groceries or other items in the other The foldability So easy Hit the button pull the handle Love it and do it with one hand all the time I hear that the safety button isnt on the city mini so this is an advantage of the bagile The ridesuspension are tops Smooth and comfortable for baby and momdad Works on all smooth services Not so great on gravel and grass Doesnt work on sand Maneuverability is great Also I believe that the wheel base is narrower than the city mini so easier to move through tight spaces Nice giant canopy Nice height of handle and walking clearance I am 58 husband is 6 The combo with the bsafe This may be the biggest advantage over the city mini The adaptors come with the stroller click right into place and the bsafe car seat snaps in with no effort It is so easy The adaptors are also very minimalist so we just keep them on the stroller at all times and use them when we need them The car seat adaptors for the city mini for many of the most popular car seats are big bulky and have to be taken off for folding and of course using the stroller independent of the car seat I know a couple friends that say their car seats are basically balancing on the city mini adaptor and dont feel secure at all But on the bagile the bsafe feels completely solid and secure I also didnt even think about getting a snap and go because this combo worked so well and of course you have all the benefits of an allpurpose stroller with great suspension This also allowed baby when tiny to face me which was really nice Finally the canopy of the bsafe and bagile work together to cover baby completely when the car seat is installed For people who really want a complete travel system I cant imagine a better combo than this Contrary to what another review says my bagile does stand on its own when folded just fine Great travel stroller Light enough easy to fold great travel bag for purchase separately One thing to know you have to remove the car seat adaptors for loading into the travel bag This isnt a problem for us and adds maybe 30 seconds on the jetway when we are folding our stroller for gatecheckingAnd the cons My brakes are sticky This is my biggest complaint about this stroller I frequently have to click and unclick the brakes three or four times for the brakes to release The under stroller storage area is a bit cramped My diaper bag wont fit The wheels are hard plastic rather than foam filled They seem to be holding up thus far but well see The seat back doesnt get quite upright enough for my little one The unfold latch could be easier Although the stroller is very light I cant have baby in one arm pull the stroller out of the trunk and unfold it The unfold latch is a little difficult to operate and sometimes you think youve got it and it relatches You really need two hands to unfold the stroller  which I am fine with but I know some folks love the idea of an instant unfoldAlso I bought the sunshine kids console to go with this stroller and it works great I do not need to remove when foldingNo stroller is perfect but this one is pretty great This is the only stroller we own and I havent yet felt a need to get any other type of stroller including an umbrella This one fits the bill for a great allaround stroller\n",
      "\n",
      "\n",
      "5 with probability being positive 0.9999998556588874)\n",
      "Love love LOVE this bag and the Licorice Twirl pattern  I use it as a purse havent loaded anything for my 4 year old daughter in it yet Excuse my LONG review but I like to know EVERYTHING before I spend 100 on something so here you goFirst I love JuJuBe products  They are well thought out well made and super cute I have been thinking of parting with my Shadow Waltz BFF now that my daughter is 4 and I find myself not using it for her stuff anymore or even as a backpack like I had planned one of the great features of the BFF is that it converts to a backpack But I still wanted something that could function as a toddler not diaper  bag  This totally fit the bill and I have NO REGRETSHeres whySIZEI am 5 0 tall  I do not have a problem with it being too short too long or too big  It looks like a normal purse NOT a diaper bag I love that  The comfortable padded strap has not slipped length at all as someone else suggested nor has it slipped off my shoulder I can shorten it enough that it hangs like a normal handbag  I can lengthen it enough that I can wear it cross body when Im shopping or pushing the stroller  Crossbody might be a problem for those of average to taller height but I cant speak to that Although I have not tried it yet because Im always wearing the bag I think it would clip to a small stroller such as an umbrella stroller easily small because the width from each ring on the bag is probably only about 1516 at full stretch Whether or not your stroller tips over with it is dependent on your stroller really not the bag  A wellbalanced stroller will not tip over with a small load on the handles Where the strap loops through the rings is where youd use your stroller clips I have the JJB clips which work great It would probably also fit nicely under the stroller in the basket because of its narrowness and width and heightFEATURESOn the back there is a pocket the full length of the bag which is where the included matching changing pad is stored but I dont use it  An iPad will fit perfectly but you wont be able to snap it closed iPad too tall  Or a coloring book or a couple thin books like easy readers There are the standard JJB crumb drains there so I try to remember not to drop change or a pen in there as it might slide outIn the front there is a big zippered pocket which contains two smaller mesh pockets mine hold a coin purse in one and lip balm a tiny hand sanitizer lipstickthings I want to grab easily without undoing my whole purse a big zippered pocket I keep receipts and coupons in there a stretchy key fob and more room stillI had my thin 6x4 wallet in there as well as a few pens and pencilsBEHIND that pocket but still on the outside front of the purse is a zippered softlined pocket like in other JJB bags for a cell phone or camera or whatever  I dont know why but I love this pocket  I never used it on my BFF because I kept my phone in my purse  But since this IS my purse now I keep my iPhone in there  It fits without a phonecase and with an Otterbox case although it is harder to get in and out because the Otterbox is grippy so there is frictionbut it still is a great place to keep the phone Because it is such a secure pocket I just took the Otterbox off and put on a thin hard decorative case and not it slips in nice and easy It is so convenient to grab my phone from that pocketeasy quick access when the phone rings you can actually hear it from here rather than buried inside your bag or if I need the calculator while shopping  Like I said I really like this featureThe MAIN compartment which has a nice zipper closure with a grabtab on one side and zips closed so that if the purse is on your left shoulder you are pulling the zipper toward the front instead of backwards well it would be backwards if it were on your right shoulder has three mesh pockets and a small deep zippered pocket and a fulllength zippered pocket  I cant even fill up this bag The large zippered pocket and two mesh pockets are on the back inside while the small zippered pocket and remaining mesh pocket are on the front inside The small zippered pocket is narrow and deep  I cant figure out what to put in there because I cant fit my hand in there easily its that narrow I tried change but it was too deep to access easily  I would probably put some things in there that I already have in a pouch to keep it organized  Anyway the mesh pouch next to it is deep and wide enough to keep my wallet in now  But it would not fit a standard long wallet too tall However there is PLENTY of room within the bag to hold your wallet  I did have my Bose earbud zippered holder in there and it fit great The other two mesh pockets are holding 1 a hankie pack of Kleenex and little reusable shopping bag pouch and 2 a small calendar planner checkbook pen a Kindle Paperwhite and room for more The large zippered pouch is basically emptyhavent needed it yet  Whatever you put in there will be up against your body so it is not good for anything bulky since you will feel the bumps  So papers receipts etc would be a good optionI am only telling you what is in MY bag so you can get a better idea of what will fit in YOUR bagInside the main compartment I have only a few things since everything else fit in pocketsa small brush a pouch with all my misc items like pocket knife a few hairbands and clips for myself and my daughter nail file and all that garbage I could probably be keeping in that oddshaped zipper pouch a travel packet of Wet Ones wipes they fit in one of the mesh pockets but I didnt like how tall they stuck outalthough still below the bags zipper the earbuds holder There is SO Much more room in there  If you use separate zippered pouches in your bag you can keep things organized in there Its big I think I could fit a change of toddler clothes or some diapers and wipes in there toobutYEYI dont have to carry that stuff anymore  keep in mind that the more you have in the inside pockets the more they stick out into the main compartment areayou can still fit lots in there but youll have to dig around moreOn the outside are two thin insulated bottle pockets one on each end that are flush against the bag not open and sticking out like on a normal diaper bag  I have at separate times fit a regular sized bottle of water a thin tall flip top snack cup a regular sized not short and stubby sippy cup in there and they are secure  I can not fit my travel coffee cup though like I could in the BFF Right now I keep my Rx sunglass case in one so it is superhandy I often drop change or other small items in these pockets or even my keys if I dont want to unzip the front pocket and clip themCHANGING PADThis pad is not the regular JJB memory foam pad  It is super thin so it fits in that back pocket without ANY bulk or you could probably fold it up even smaller and maybe put it inside the bag but I never wanted something that had been on public bathroom counterschanging tables with a dirty kid tushie on it to be in my main diaper bag compartment Im trying to figure out how I can use it maybe as a placemat when eating out since Ill never use it for its intended purpose  It might make a nice clean place to set the coloring book or something when out and about such as waiting at the doctors office  HmmmYou can seriously load this bag down Because the front large pocket fits so much you can end up quite bulky there Ive seen some good YouTube videos on how people have packed their Hobo Be bagscheck them out if you are still not sure about this product  But Im telling you if you want a diaper bag that does NOT look like a diaper bag other than the strap is pretty wide and has that pad on the shoulder or you are looking for a next stage toddlerPreschooler bag this is it in my opinion  Ive seen other fancier purse diaper bags but a  and b they were too fancy for my style This is cute and casualSince there is so much extra room in this bag Ill probably pack my matching Be Quick with stuff for my girlextra undies just in case  crayons a pad of paper some disposable placemats a snack pouch hair stuff maybe a juicebox a few bandaidsall that good stuffOH I should mention if you are really using this as a fullon diaper bag you can pretty much fit all your mommystuff in the front pocket exclusively wallet keys chapstick pen etc and use the entire rest of the bag for kid stuff  Had I had this bag from the beginning thats what I would have doneDISLIKESThe bottle pockets are a little hard to use onehanded  In other words you need one hand to stretch open the pocket and the other to place the bottle in You cant just slide something fat in  The pockets are BIG enough but the elastic is tight ie secure so you have to stretch it out to fit something in even my sunglass caseI really cant say enough good things about the Hobo Be  All the normal JJB stuff appliesteflon treated fabric satin light colored lining so you can see things you put inside metal hardware  Love it A bit pricy but worth it And if you like a JuJuBe pattern or product snatch it up because they dont stick around foreverUPDATE 112013The bag hooks to the umbrella stroller with the JuJuBe clips really well  It is the perfect width\n"
     ]
    }
   ],
   "execution_count": 235
  },
  {
   "metadata": {
    "ExecuteTime": {
     "end_time": "2024-11-08T11:29:42.686748Z",
     "start_time": "2024-11-08T11:29:42.684146Z"
    }
   },
   "cell_type": "code",
   "source": [
    "i = 1\n",
    "for rev in worse_rev[0:5]:\n",
    "    print(f\"\\n\\n{i} with probability being positive {rev[0]})\\n{rev[1]}\")\n",
    "    i += 1"
   ],
   "outputs": [
    {
     "name": "stdout",
     "output_type": "stream",
     "text": [
      "\n",
      "\n",
      "1 with probability being positive 1.2615727050882292e-07)\n",
      "This is a long review but if you read the whole thing it may save you some money and frustration If you just want to read the bit about the Bottles jump down to the 6th Paragraph and read from thereI used Avent products with my first child 5 years ago and was absolutely thrilled Back then I was a solomother on welfare so the cost was a real struggle for me but I was so thrilled with the product that I found the money to buy the things I needed for my childFive years on and oh how things have changed This time around I am married and have the funds to be able to buy whichever brand I want without money being a consideration So I eagerly stocked up on all things Avent I bought the 4 oz bottles 9 oz bottles disposable bottle kit Isis Electric Breast Pump pacifiers Bottle  Food Warmer Bottle Tote Formula Dispeser Microwave Steam Steriliser  the whole shebangThe first thing to go wrong was the Isis Breast Pump US150 from BabiesRUs It would work fine for anywhere between 2 and 10 minutes and then the suction would slack off and the rhythm would go out of whack stopping the flow of milk from my breast I would then have to turn off the machine and pump manually instead or be left only partially expressed I was reliant on the pump to take off my milk as my baby would not latch and I really wanted to keep giving her breast milk When the machine broke down I contacted Avent and asked for a refund as I was going to have to replace the machine Avent told me that it was a nonrefundable item but if I waited a week they would send out a label for me to ship the pump back to them and then IF THEY FOUND A FAULT they would then repair it and return it to me They said it would take 24 weeks And what was I to do without a breast pump for a month I asked The lady on the phone suggested that I purchase their manual pump to use in the meantime and boasted that it would only cost me about US50 Needlesstosay I lost a lot of money on this and was absolutely furious I threw the worthless pump in the trash and ended up 100 formulafeeding my babyThen there were issues with some of the nipples tearing and they were less than a month old I figured this was just my misfortune so rather than make a fuss about it I simply replaced the nipples at my own expenseNext came the distorted bottles I noticed one day that the plastic of one of the 4 oz bottles was warped I thought it a little odd but again thought that I had probably just caught a wonky batch and didnt think too much about it Then another bottle warped and another and another and another  fairly soon I had 5 warped bottles some 4 oz some 9 oz Enough was enough I called Avent again and complained only to have the woman on the phone tell me that I mustnt have read the instrustions on the MICROWAVE STEAM STERILISER properly The woman asked me to confirm the wattage of my microwave the amount of time I was putting the bottles in for and how much water I was using 900W 5 minutes 200 mls After telling her she confirmed that yes that was all correct but she still said that I must have been doing something wrong during the sterilising processThe lady sent me out a label to send the bottles back to them for testing She said that once the bottles had been tested then they would get back to me Well while waiting for the label to arrive I ensured that I absolutely was following the instructions correctly when I used the Steriliser but I still managed to have two more bottles warp on me giving me a total of 7 warped bottles to returnI finally got the label and sent the bottles back About a week later Avent called and said that the tests showed I had overloaded the Steriliser and that had caused the bottles to warp She said that as a oneoff courtesy they would replace the five 9oz bottles I pointed out to her that I had stacked the Steriliser as told to do so in the illustrations of the instruction booklet and when I asked about the two 4 oz bottles I had also returned she denied that they had received them even though I put them all in the package myself and refused to discuss the matter any further So I have lost 2 bottles and have a steriliser that apparently likes to melt bottles regardless of how cautious I am about follwing the directionsThe other things I have had issues with are the pacifiers and the Bottle Tote The pacifiers had a hard edge on the silicone which was very uncomfortable for my newborn I ended up replacing these with a different brand as Avent wanted me to return the pacifiers to them at my own expense before they would consider replacing them The Bottle Tote packaging states that it will keep bottles warm or cold for up to 4 hours This is more like up to 2 hours but even that is dubious In order to get the bottles hot enough to stay warm for 4 hours it would have to be boiling water but if you put boiling water into the bottles the pressure becomes too much for them to handle so thats not an option I have ended up throwing out the Bottle Tote which cost me 15 and purchasing a midsize Thermos I put the water of about the right temperature into the Thermos and take empty bottles with me I even use the Thermos at home so that I do not have to wait for the Avent Bottle Warmer to hurry up and do its thing at 3amI also have the Via Nurser Kit and addtional containers but have found that the lids sometimes do not seal properly and therefore leak Very annoying especially when you had premixed formula in the container your baby is hungry and youre an hour drive from homeI am absolutely disappointed with Avent Almost every product of theirs that I have purchased this time around has been defective in one way or another and their cutomer service level has been absolutely pathetic They have obviously never heard the customer is always right because the have continually placed the blame solely on me for the issues that I have hadAvent used to be a great company with a great product and now it seems that they are simply relying on their good reputation of the past to carry them through the future Its not good enough Their products are NOT worth the money anymore and I strongly recommend that no one buy any of their products There are tons of very good better products available on the market and I will be replacing all of my Avent equipment with another brand as soon as I can I noticed while at Target the other day that Circo are now making wide neck bottles that look exactly like the Avent ones but at almost half the price  I think Ill give them a go Maybe you should too\n",
      "\n",
      "\n",
      "2 with probability being positive 8.389991245317138e-06)\n",
      "Babyhaven knew that the items were never taken out their boxes and definitely not used however they gave me no consideration for a return I understand that they have a return policy but Im sure exceptions have been made  These were purchased to keep our kitty from opening bedroom doors but we had to put him down before we could install the product  We placed them in a closet and just found them  As one can imagine after losing a member of our family my first thought was not in returning the items  We found the package this weekend and thought we would at least attempt a return  But because they were purchased over 30 days ago we are unable to return them  This company should consider the condition of the item in the return before just flat out denying the return I will not be purchasing any additional items from this company\n",
      "\n",
      "\n",
      "3 with probability being positive 3.647046547186417e-05)\n",
      "I am a researchaholic in general and have researched many different baby products over the past 5 years due to being a mother of 3 and wanting to get the best for the price and not wanting to settle for less  I live in the Northeast US so it gets really cold and the weather changes frequently and in extremes on a daily if not hourly basis  Anyway here are the brands Ive usedowed andor researched extensively and the comparisonsJolly Jumper Arctic Sneak A Peek Infant Car Seat Cover JJAJolly Jumper Sneak A Peek Infant Car Seat Cover JJSummer Infant Poshpouch SPCozy Car Seat Microfiber and Fleece Cover CCBabys Cozy World Microfiber  Fleece Carrier Cover BC yes the CC and the BC are different many people do not know thisJJ Cole infantoriginal bundle me JJCJJ Cole toddler bundle me  JJTOKJolly Jumper Artic JJA is awesome I would rate it the best one out of all  It is a shower cap cover for the infant car seat it has an attached blanket inside and a peekaboo flap that you can velcro closed to keep the babys face covered and warm and you can also velcro it up to stay open when when you put the baby in the car  It has two zippers which allow the cover to be fully opened without removal of the cover and easy access to baby  And lastly it keeps the baby from over heating  When opening the two zippers it enable the ability to flip the middle piece down keeping it completely off the baby  The blanket is a nice feature of this cover  You can use it alone with the two zippers open on a warmer day and you can also flip the blanket down away from the baby as well when not in use  Another nice thing about the blanket is you can wrap it around baby to keep them warm it does not go behind the baby but can be placed on the sides of the baby there is enough material on both sides to do this  Some reviewers of this carrier cover and other shower cap cover styles stated that there were gaps around the handle this is true of mostly all the shower cap covers except you can adjust this one on the sides to cover these gaps  Also you can take the wrap around blanket and cover the baby as well as feed it through the gaps on the sides to close them if the cover cannot be adjusted on your carrier to fit around the bottom to close that area  The outer portion is nylon like a jacket material and it is waterproof the fleece is substantial and it keeps the infant very warm This is an expensive carrier but well worth the money  This is top notchJolly Jumper JJ is the same carrier cover as above minus the attached blanket  Again overall an excellent cover  It is not much less money than the JJA and no matter what climate I would personally pay the extra money for the JJA just because you can use the blanket when opening the cover by the zippers and then you still have the option of zippering the carrier for more protection if it is raining or it gets colder  You can also fold down the blanket and not use it as all on the JJA and use it like a JJSummer Infant Poshpouch SP is another shower cap cover for the infant carseat but it has an opening in the top with no flap to velcro over babys face  I owned this before the JJA and here are some major differences  It is a much thinner material the fleece isnt as substantial and the outer portion is not waterproof or nylon but a fleece polyester material  The opening is rather large and I felt as though breezeswind would go right through the hole and it is definitely not as effective in making the baby warm esp in colder conditions  To remedy this problem I put a blanket on underside of the cover and the baby warmer esp on 30 degree days  I also had to put a hat and make sure the blanket was high on baby to cover the babys neck or use something to make sure babys neck was covered due to the hole being so big  It also gaps much more on the sides then the JJA and the JJ  The SP only has one zipper to unzip the baby when inside  And when you want to keep the baby inside the carrier you really have to take the whole thing off to leave the baby in in order to not be covered  And it is hard to get the baby out without pushing it asideAND MOST IMPORTANTLY  PLEASE SEE  it was very scary when I discovered that when you place it on correctly and put it over the infant carseat I would put my infant carseat into the holster and it WOULD NOT I repeat WOULD NOT lATCH INTO THE BASE  There was no way of knowing this unless you checked I check my baby each time to make sure the carseat is latched in just by habit but it would not even be partially latched just completely unlatched  I felt this was unacceptable  Even when I tried to adjust it by pulling the bottom portion up where the babys feet would be the cover bc of the elastic would just come up bunch and be partially off with a gap under the babys feet so I feel this carrier is a COMPLETE WASTE OF MONEY  I paid 23 the cost of the JJA and it is more then the CC and BCCozy Car Seat Microfiber and Fleece Cover CC A lot of people think this is the BC and it is the same price but it is not  It is a cheap spin off of the BC even though it is the same price  The fabric is less substantial it is honestly more like the SP  Not worth the money and dont make the mistake of getting itBabys Cozy World Microfiber  Fleece Carrier Cover BC uses a type of microfiber called microsuede which is a soft fabric made from synthetic fibers that are an imitation to suede  It seems like it is a good bang for your buck coming in around twenty dollars which is half of the JJA  The only thing is if you live in a really rainy climate I dont think it would be as waterproof being microsuede as the JJ or the JJA material  Another reviewer stated that the BABYS COZY WORLD is reversible which I am not sure how it can be reversible deeming that it does have a flap that goes over the infants face like the CC JJA and JJ but maybeThe reviewer also stated that the BC has pacifier clips which would be a nice feature for toys as well and that is is very thick for all weather and it is the same price as the CC  ONE THING that many reviews said about the CC and the BC is that the zippers can be dangerous bc they line up in the same place as a newborns eyes and have the potential for scratching the cornea  With the JJ and the JJA the zippers do not seem as though they would reach this far  Maybe the CC and the BC have larger zippers that might spin around in opposite directions esp if it is reversible  It does have the zippers on both sides like the JJ and JJA to unzip and expose the infant nicely when inside  For the price this seems like it would be a good carrier as well and I would rate the the BC a close second and very comparable to the JJ but does not have a blanket feature like the JJAJJ Cole infantoriginal bundle me JJCis what I owned with my first child who was a premature infant and I only got about 7 months of use out of this cover due to the fact that infants tend to grow out of it very fast usually before they are out of their infant carseat  That is why I got the toddler JJ cole toddler size after  It is a different type of carrier than all the others that are reviewed above being that it is not a shower cap style it has an underside fabric to the carrier that is placed under the harness straps and then a layer goes over the baby and is zippered down and around the bottom  FIRST OF ALL THIS IS DANGEROUS which I never knew as a new mom and why they even CAN SELL them as carseat covers is beyond me because if you get into an accident it compresses under the infant because of the added bulk between the seat and the child it is like the infant is wearing a jacket so there is more room in between the harness and the infant deeming it unsafe  Also JJ cole now has the lite JJ cole and says that it passed crash tests but The Bundle me Lites openings do not come anywhere near the hip straps of the harness meaning they would be improperly routed thus creating slack  Here is a picture   No certified carseat technicians recommend this aftermarket product for the carseat  Any many if not all carseat companies state if an aftermarket product is used inside the carseat between the harness and baby it will void all guarantees for safety  NOT GOODJJ Cole toddler JJT  Had this mostly with my first child after she was 7 months and second child and would not use now dt the same reason above with the JJ  But it could be nice with a stroller  The only thing is you do need a hat and something to cover the babys neck as wellIn summary1The Jolly Jumper Artic JJA wins the race I am very very please with this product esp the blanket aspect that I think is well worth itThe JJ is basically the same product as the JJA but without the blanket2The Babys Cozy World Microfiber  Fleece Carrier Cover BC but make sure it is the BC and not the CC when you purchase it comes in a close second esp for the priceHope this review is helpful to you and you now wont have to go through the countless hours of research and will be getting a great product while not wasting any of your time or money on another worthless baby item instead ONLY getting the BEST for your baby\n",
      "\n",
      "\n",
      "4 with probability being positive 0.0001380075149421037)\n",
      "I hate this product because this Medela Harmony Manual Breast Pump doesnt work at allI am breast feeding my baby from last three months and thought of buying a pump which i can use occasionally when i am out for workI have tried to use it many times since then and there is not really any suction and certainly not enough milk to save as it takes forever to get a few dropsFrankly speaking I couldnt get even 10 drops of milk using this pump I cant return it so the only way is to throw in trash and post pictures here so every one is aware of it that i really mean itI do not recommend this product even for stay at home momsBad part about breast feeding pump is once you opened it we cannot return it even if it is bad manufacturing productPlease dont waste your money on this crappy product\n",
      "\n",
      "\n",
      "5 with probability being positive 0.00017559788777166395)\n",
      "This never worked right and I tried to return this and get my money back but to this day  06 26 2014 never got anything back I would never get this again barb  I want Amazon to return my money And I will let everyone know  how bad this Dino bottle warmerdont waste your money because you wont get your money back I better BARB\n"
     ]
    }
   ],
   "execution_count": 236
  },
  {
   "metadata": {
    "ExecuteTime": {
     "end_time": "2024-11-08T11:29:42.768894Z",
     "start_time": "2024-11-08T11:29:42.764298Z"
    }
   },
   "cell_type": "code",
   "source": "second_accuracy = model.score(x_vec_test, y_test)",
   "outputs": [],
   "execution_count": 237
  },
  {
   "cell_type": "code",
   "metadata": {
    "collapsed": true,
    "ExecuteTime": {
     "end_time": "2024-11-08T11:29:43.843761Z",
     "start_time": "2024-11-08T11:29:42.790874Z"
    }
   },
   "source": [
    "#c)\n",
    "time_second_model = timeit.timeit(lambda: model.predict(x_vec_test), number=3000)\n",
    "\n",
    "print(f\"Czas dla pierwszego modelu ze wszystkimi słowami:\\t {time_first_model}.\\nCzas drugiego modelu z ograniczonym słownikiem:\\t {time_second_model}\\nCzas więc jest o {time_first_model/ time_second_model}\")\n",
    "\n",
    "print(f\"Dokładność dla pierwszego {first_accuracy}.\\nDokładność dla drugiego: {second_accuracy}\")\n",
    "#hint: %time, %timeit"
   ],
   "outputs": [
    {
     "name": "stdout",
     "output_type": "stream",
     "text": [
      "Czas dla pierwszego modelu ze wszystkimi słowami:\t 9.012749832996633.\n",
      "Czas drugiego modelu z ograniczonym słownikiem:\t 1.0506128749984782\n",
      "Czas więc jest o 8.578564043401512\n",
      "Dokładność dla pierwszego 0.9316062486881953.\n",
      "Dokładność dla drugiego: 0.8670804473628977\n"
     ]
    }
   ],
   "execution_count": 238
  },
  {
   "metadata": {},
   "cell_type": "markdown",
   "source": "> 📝 <span style=\"color:lightblue\">Komentarz:</span> Tutaj w zasadzie powtarzamy, kroki dla bardziej zawężonego zbioru słow. Widzimy, że modelowi dalej udaje się dość dobrze rozpoznawać znaczenie zdań, co prawda, tutaj radzi sobie gorzej, bo o około 0.09. Z czego może to się brać? Oczywiste jest, że kiedy zwęziliśmy zbiór słów do analizy, ograniczyliśmy dużą ilość potencjalnie przydatnych kontekstów. Co jeszcze to fakt, że literówki pokroju \"lovess\" nie będą brane pod uwagę w analizie. Faktem jest, że nasz model radzi sobie troszkę gorzej, ale za to uprościliśmy znacznie jego złożoność. Zobaczmy, że już dla 3 tysięcy przewidywania jakiegoś zbioru zdań, dostajemy prawie 9 razy szybciej wynik, aniżeli w pierwszym przypadku. A więc klasycznie wracami do pytania, jakie są nasze potrzeby, czy potrzebujemy o wiele lepszą dokładność modelu, czy może ma być on mniej złożony i szybszy."
  }
 ],
 "metadata": {
  "anaconda-cloud": {},
  "kernelspec": {
   "display_name": "Python 3 (ipykernel)",
   "language": "python",
   "name": "python3"
  },
  "language_info": {
   "codemirror_mode": {
    "name": "ipython",
    "version": 2
   },
   "file_extension": ".py",
   "mimetype": "text/x-python",
   "name": "python",
   "nbconvert_exporter": "python",
   "pygments_lexer": "ipython2",
   "version": "2.7.12"
  }
 },
 "nbformat": 4,
 "nbformat_minor": 4
}
