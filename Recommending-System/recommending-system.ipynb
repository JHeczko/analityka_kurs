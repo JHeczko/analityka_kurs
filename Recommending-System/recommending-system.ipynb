{
 "cells": [
  {
   "metadata": {},
   "cell_type": "markdown",
   "source": [
    "# <span style=\"color:#6042f5\"><b>Recommendation</b>\n",
    "Now i will use previously processed datasets to try to recommend something."
   ],
   "id": "8804ea7ea9fe2849"
  },
  {
   "metadata": {},
   "cell_type": "markdown",
   "source": "## <span style=\"color:darkgrey\"><b>Importy</b>",
   "id": "2ac4526007596d36"
  },
  {
   "cell_type": "code",
   "id": "initial_id",
   "metadata": {
    "collapsed": true,
    "ExecuteTime": {
     "end_time": "2025-01-18T17:22:02.647222Z",
     "start_time": "2025-01-18T17:22:02.640547Z"
    }
   },
   "source": [
    "import numpy as np\n",
    "import pandas as pd\n",
    "import ast\n",
    "import scipy.sparse as sp\n",
    "\n",
    "from scipy.sparse import csr_matrix\n",
    "from sklearn.feature_extraction.text import TfidfVectorizer, TfidfTransformer\n",
    "from sklearn.preprocessing import OneHotEncoder, MultiLabelBinarizer, Normalizer"
   ],
   "outputs": [],
   "execution_count": 154
  },
  {
   "metadata": {},
   "cell_type": "markdown",
   "source": "## <span style=\"color:#a8eb34\"><b>Preparation</b>",
   "id": "5ff0af119f9f5a6b"
  },
  {
   "metadata": {
    "ExecuteTime": {
     "end_time": "2025-01-18T17:22:07.692767Z",
     "start_time": "2025-01-18T17:22:02.670959Z"
    }
   },
   "cell_type": "code",
   "source": [
    "games = pd.read_csv('./datasets/processed_data/games.csv')\n",
    "games.dropna(subset='title',inplace=True)\n",
    "users = pd.read_csv('./datasets/processed_data/users.csv',dtype={'user_id':int,                                                         'name':str,                                                             'hours_played': str})\n",
    "\n",
    "users_view = users.copy()\n",
    "\n",
    "users.name = users.name.apply(ast.literal_eval)\n",
    "users.hours_played = users.hours_played.apply(ast.literal_eval)\n",
    "users.hours_played = users.hours_played.apply(lambda x: list(np.array(x)+1))\n",
    "\n",
    "games.supported_languages =  games.supported_languages.apply(ast.literal_eval)\n",
    "games.supported_languages =  games.supported_languages.apply(lambda x: list(x))\n",
    "\n",
    "games.tags = games.tags.apply(ast.literal_eval)\n",
    "games.tags = games.tags.apply(lambda x: list(x))\n",
    "\n",
    "games.game_features = games.game_features.apply(ast.literal_eval)\n",
    "games.game_features = games.game_features.apply(lambda x: list(x))"
   ],
   "id": "5fc12d2a444201d6",
   "outputs": [],
   "execution_count": 155
  },
  {
   "metadata": {
    "ExecuteTime": {
     "end_time": "2025-01-18T17:22:07.754305Z",
     "start_time": "2025-01-18T17:22:07.734238Z"
    }
   },
   "cell_type": "code",
   "source": "games.head(3)",
   "id": "5eda93a1d9ec4323",
   "outputs": [
    {
     "data": {
      "text/plain": [
       "                         title  win  mac  linux  steam_deck  \\\n",
       "1     -circle triangle square-    0    0      0           0   \n",
       "2                      Circles    1    1      0           1   \n",
       "3                  Fallalypse     1    1      1           1   \n",
       "\n",
       "                                                desc  \\\n",
       "1  Puzzle game using three types of objects ○ △ a...   \n",
       "2                                                      \n",
       "3  A group of terrorists has arranged a nuclear h...   \n",
       "\n",
       "                                 supported_languages  \\\n",
       "1                                [English, Japanese]   \n",
       "2                                                 []   \n",
       "3  [English, Japanese, Russian, Traditional Chine...   \n",
       "\n",
       "                                                tags  \\\n",
       "1  [Casual, Puzzle, Physics, Relaxing, 2D, Single...   \n",
       "2                                                 []   \n",
       "3  [Early Access, Action, Adventure, Indie, Casua...   \n",
       "\n",
       "                                       game_features  \n",
       "1                                    [Single-player]  \n",
       "2                                                 []  \n",
       "3  [Single-player, Online PvP, Steam Achievements...  "
      ],
      "text/html": [
       "<div>\n",
       "<style scoped>\n",
       "    .dataframe tbody tr th:only-of-type {\n",
       "        vertical-align: middle;\n",
       "    }\n",
       "\n",
       "    .dataframe tbody tr th {\n",
       "        vertical-align: top;\n",
       "    }\n",
       "\n",
       "    .dataframe thead th {\n",
       "        text-align: right;\n",
       "    }\n",
       "</style>\n",
       "<table border=\"1\" class=\"dataframe\">\n",
       "  <thead>\n",
       "    <tr style=\"text-align: right;\">\n",
       "      <th></th>\n",
       "      <th>title</th>\n",
       "      <th>win</th>\n",
       "      <th>mac</th>\n",
       "      <th>linux</th>\n",
       "      <th>steam_deck</th>\n",
       "      <th>desc</th>\n",
       "      <th>supported_languages</th>\n",
       "      <th>tags</th>\n",
       "      <th>game_features</th>\n",
       "    </tr>\n",
       "  </thead>\n",
       "  <tbody>\n",
       "    <tr>\n",
       "      <th>1</th>\n",
       "      <td>-circle triangle square-</td>\n",
       "      <td>0</td>\n",
       "      <td>0</td>\n",
       "      <td>0</td>\n",
       "      <td>0</td>\n",
       "      <td>Puzzle game using three types of objects ○ △ a...</td>\n",
       "      <td>[English, Japanese]</td>\n",
       "      <td>[Casual, Puzzle, Physics, Relaxing, 2D, Single...</td>\n",
       "      <td>[Single-player]</td>\n",
       "    </tr>\n",
       "    <tr>\n",
       "      <th>2</th>\n",
       "      <td>Circles</td>\n",
       "      <td>1</td>\n",
       "      <td>1</td>\n",
       "      <td>0</td>\n",
       "      <td>1</td>\n",
       "      <td></td>\n",
       "      <td>[]</td>\n",
       "      <td>[]</td>\n",
       "      <td>[]</td>\n",
       "    </tr>\n",
       "    <tr>\n",
       "      <th>3</th>\n",
       "      <td>Fallalypse</td>\n",
       "      <td>1</td>\n",
       "      <td>1</td>\n",
       "      <td>1</td>\n",
       "      <td>1</td>\n",
       "      <td>A group of terrorists has arranged a nuclear h...</td>\n",
       "      <td>[English, Japanese, Russian, Traditional Chine...</td>\n",
       "      <td>[Early Access, Action, Adventure, Indie, Casua...</td>\n",
       "      <td>[Single-player, Online PvP, Steam Achievements...</td>\n",
       "    </tr>\n",
       "  </tbody>\n",
       "</table>\n",
       "</div>"
      ]
     },
     "execution_count": 156,
     "metadata": {},
     "output_type": "execute_result"
    }
   ],
   "execution_count": 156
  },
  {
   "metadata": {
    "ExecuteTime": {
     "end_time": "2025-01-18T17:22:07.817690Z",
     "start_time": "2025-01-18T17:22:07.811830Z"
    }
   },
   "cell_type": "code",
   "source": "users.head(3)",
   "id": "fc09fd463ada4428",
   "outputs": [
    {
     "data": {
      "text/plain": [
       "   user_id                                               name  \\\n",
       "0     5250  [Alien Swarm, Cities Skylines, Counter-Strike,...   \n",
       "1    76767  [Age of Empires II HD Edition, Alien Swarm, Ar...   \n",
       "2    86540  [Age of Empires II HD Edition, Age of Empires ...   \n",
       "\n",
       "                                        hours_played  \n",
       "0  [5.9, 145.0, 1.0, 1.0, 1.0, 1.0, 63.0, 1.2, 1....  \n",
       "1  [14.1, 1.8, 1.0, 1.0, 1.0, 25.0, 23.0, 13.5, 6...  \n",
       "2  [1.7, 1.0, 1.2, 1.0, 1.0, 1.0, 1.0, 58.0, 1.0,...  "
      ],
      "text/html": [
       "<div>\n",
       "<style scoped>\n",
       "    .dataframe tbody tr th:only-of-type {\n",
       "        vertical-align: middle;\n",
       "    }\n",
       "\n",
       "    .dataframe tbody tr th {\n",
       "        vertical-align: top;\n",
       "    }\n",
       "\n",
       "    .dataframe thead th {\n",
       "        text-align: right;\n",
       "    }\n",
       "</style>\n",
       "<table border=\"1\" class=\"dataframe\">\n",
       "  <thead>\n",
       "    <tr style=\"text-align: right;\">\n",
       "      <th></th>\n",
       "      <th>user_id</th>\n",
       "      <th>name</th>\n",
       "      <th>hours_played</th>\n",
       "    </tr>\n",
       "  </thead>\n",
       "  <tbody>\n",
       "    <tr>\n",
       "      <th>0</th>\n",
       "      <td>5250</td>\n",
       "      <td>[Alien Swarm, Cities Skylines, Counter-Strike,...</td>\n",
       "      <td>[5.9, 145.0, 1.0, 1.0, 1.0, 1.0, 63.0, 1.2, 1....</td>\n",
       "    </tr>\n",
       "    <tr>\n",
       "      <th>1</th>\n",
       "      <td>76767</td>\n",
       "      <td>[Age of Empires II HD Edition, Alien Swarm, Ar...</td>\n",
       "      <td>[14.1, 1.8, 1.0, 1.0, 1.0, 25.0, 23.0, 13.5, 6...</td>\n",
       "    </tr>\n",
       "    <tr>\n",
       "      <th>2</th>\n",
       "      <td>86540</td>\n",
       "      <td>[Age of Empires II HD Edition, Age of Empires ...</td>\n",
       "      <td>[1.7, 1.0, 1.2, 1.0, 1.0, 1.0, 1.0, 58.0, 1.0,...</td>\n",
       "    </tr>\n",
       "  </tbody>\n",
       "</table>\n",
       "</div>"
      ]
     },
     "execution_count": 157,
     "metadata": {},
     "output_type": "execute_result"
    }
   ],
   "execution_count": 157
  },
  {
   "metadata": {},
   "cell_type": "markdown",
   "source": "## <span style=\"color:#a8eb34\"><b>Encoding data</b>",
   "id": "365387535f9e4203"
  },
  {
   "metadata": {},
   "cell_type": "markdown",
   "source": "### <span style=\"color:#6e174c\"><b>Users</b>",
   "id": "ecf99a6609dea42c"
  },
  {
   "metadata": {
    "ExecuteTime": {
     "end_time": "2025-01-18T17:22:10.501132Z",
     "start_time": "2025-01-18T17:22:07.905939Z"
    }
   },
   "cell_type": "code",
   "source": [
    "encoder = MultiLabelBinarizer(sparse_output=True)\n",
    "data_encoded:sp.csr_matrix = encoder.fit_transform(users.name.values)\n",
    "data_encoded = data_encoded.astype(np.float64)\n",
    "\n",
    "row_indices, col_indices = data_encoded.nonzero()\n",
    "values = np.array(users.hours_played).flatten() if isinstance(users.hours_played, np.ndarray) else [item for sublist in users.hours_played for item in sublist]\n",
    "for i ,(row, col) in enumerate(zip(row_indices, col_indices)):\n",
    "    data_encoded[row,col] = values[i]\n",
    "    \n",
    "tfidf_transformer = TfidfTransformer(norm='l2')\n",
    "tfidf_transformer.fit(data_encoded)\n",
    "data_encoded_tfidf = tfidf_transformer.transform(data_encoded)\n",
    "\n",
    "oc_matrix = data_encoded.transpose().dot(data_encoded)\n",
    "octfidf_matrix = data_encoded_tfidf.transpose().dot(data_encoded_tfidf)\n",
    "games_names_vec = np.array(encoder.classes_).flatten()\n",
    "\n",
    "oc_matrix.setdiag(0)\n",
    "octfidf_matrix.setdiag(0)"
   ],
   "id": "53225cceb91a2689",
   "outputs": [],
   "execution_count": 158
  },
  {
   "metadata": {},
   "cell_type": "markdown",
   "source": "> 📝 <span style=\"color:lightblue\">Komentarz:</span> Ok lets se what i have done here, i have created occurance matrix that is going to be normalize by tf-idf. The formula for occurance matrix is $A^{T}A$, where A is matrix with data about each user as rows and column as products in out example, we have games, but some games are much more playable than others, for example a lot of users have lots of hours in CS2, so this game is going to be really recomended, it is the problem that we had on a lecture. So firstly i encoded the matrix so it would have the OneHot encoding then made the matrix have 0 in columns where user doesnt have this specific game, 1 if he has a game but not played it, and >1 where he has some hours played in this specific games, you can see hours by formula $hours_{time} - 1$. ",
   "id": "845105ae98f74a6d"
  },
  {
   "metadata": {},
   "cell_type": "markdown",
   "source": "### <span style=\"color:#6e174c\"><b>Games</b>",
   "id": "10a1b95ecbdb559a"
  },
  {
   "metadata": {
    "ExecuteTime": {
     "end_time": "2025-01-18T17:22:10.550476Z",
     "start_time": "2025-01-18T17:22:10.540916Z"
    }
   },
   "cell_type": "code",
   "source": [
    "platform_vec = games[['win', 'mac', 'linux', 'steam_deck']] # already encoded\n",
    "desc_vec = games.desc.values # needd tfidf encoding\n",
    "tags_vec = games.tags.values # need encoding multilabel\n",
    "game_features_vec = games.game_features.values # need encoding multilabel"
   ],
   "id": "745a347c60618499",
   "outputs": [],
   "execution_count": 159
  },
  {
   "metadata": {
    "ExecuteTime": {
     "end_time": "2025-01-18T17:22:13.199784Z",
     "start_time": "2025-01-18T17:22:10.572963Z"
    }
   },
   "cell_type": "code",
   "source": [
    "tfidf_encoder = TfidfVectorizer(stop_words='english')\n",
    "tfidf_encoder.fit(desc_vec)\n",
    "desc_vec = tfidf_encoder.transform(desc_vec)\n",
    "\n",
    "multi_vectorizer = MultiLabelBinarizer(sparse_output=True)\n",
    "game_features_vec = multi_vectorizer.fit_transform(game_features_vec)\n",
    "tags_vec = multi_vectorizer.fit_transform(tags_vec)\n",
    "\n",
    "combined_games = sp.hstack([platform_vec,desc_vec,game_features_vec,tags_vec]) "
   ],
   "id": "5a6e294174aafc9b",
   "outputs": [],
   "execution_count": 160
  },
  {
   "metadata": {},
   "cell_type": "markdown",
   "source": "> 📝 <span style=\"color:lightblue\">Komentarz:</span> Firstly i vectorize the description in tf-idf format and then one-hot the tags and game features, i will calculate distance between them separately and then check what is mean distance",
   "id": "fb7e7ff46ab94fd3"
  },
  {
   "metadata": {},
   "cell_type": "markdown",
   "source": "## <span style=\"color:#a8eb34\"><b>Predicting</b>",
   "id": "f26dfc0beefadd16"
  },
  {
   "metadata": {},
   "cell_type": "markdown",
   "source": "### <span style=\"color:#6e174c\"><b>Occurance matrix</b>",
   "id": "d58e6b08e21ba6e1"
  },
  {
   "metadata": {
    "ExecuteTime": {
     "end_time": "2025-01-18T17:22:13.223778Z",
     "start_time": "2025-01-18T17:22:13.214618Z"
    }
   },
   "cell_type": "code",
   "source": [
    "user415 = pd.DataFrame({\n",
    "    'hours_played': ast.literal_eval(users_view.loc[415].hours_played)\n",
    "},index=pd.Series(ast.literal_eval(users_view.loc[415]['name']))).sort_values(by='hours_played', ascending=False)\n",
    "user415"
   ],
   "id": "4f0a2617e1b3760e",
   "outputs": [
    {
     "data": {
      "text/plain": [
       "                             hours_played\n",
       "Half-Life 2                          31.0\n",
       "Half-Life 2 Lost Coast                2.0\n",
       "Eternal Silence                       1.9\n",
       "Half-Life Source                      0.9\n",
       "Counter-Strike Source                 0.1\n",
       "Half-Life 2 Deathmatch                0.0\n",
       "Half-Life Deathmatch Source           0.0"
      ],
      "text/html": [
       "<div>\n",
       "<style scoped>\n",
       "    .dataframe tbody tr th:only-of-type {\n",
       "        vertical-align: middle;\n",
       "    }\n",
       "\n",
       "    .dataframe tbody tr th {\n",
       "        vertical-align: top;\n",
       "    }\n",
       "\n",
       "    .dataframe thead th {\n",
       "        text-align: right;\n",
       "    }\n",
       "</style>\n",
       "<table border=\"1\" class=\"dataframe\">\n",
       "  <thead>\n",
       "    <tr style=\"text-align: right;\">\n",
       "      <th></th>\n",
       "      <th>hours_played</th>\n",
       "    </tr>\n",
       "  </thead>\n",
       "  <tbody>\n",
       "    <tr>\n",
       "      <th>Half-Life 2</th>\n",
       "      <td>31.0</td>\n",
       "    </tr>\n",
       "    <tr>\n",
       "      <th>Half-Life 2 Lost Coast</th>\n",
       "      <td>2.0</td>\n",
       "    </tr>\n",
       "    <tr>\n",
       "      <th>Eternal Silence</th>\n",
       "      <td>1.9</td>\n",
       "    </tr>\n",
       "    <tr>\n",
       "      <th>Half-Life Source</th>\n",
       "      <td>0.9</td>\n",
       "    </tr>\n",
       "    <tr>\n",
       "      <th>Counter-Strike Source</th>\n",
       "      <td>0.1</td>\n",
       "    </tr>\n",
       "    <tr>\n",
       "      <th>Half-Life 2 Deathmatch</th>\n",
       "      <td>0.0</td>\n",
       "    </tr>\n",
       "    <tr>\n",
       "      <th>Half-Life Deathmatch Source</th>\n",
       "      <td>0.0</td>\n",
       "    </tr>\n",
       "  </tbody>\n",
       "</table>\n",
       "</div>"
      ]
     },
     "execution_count": 161,
     "metadata": {},
     "output_type": "execute_result"
    }
   ],
   "execution_count": 161
  },
  {
   "metadata": {},
   "cell_type": "markdown",
   "source": "> 📝 <span style=\"color:lightblue\">Komentarz:</span> Let us see our user, he mostly playes half-life two and other games, we will try to reccomend him some new games, based on occurance matrix. Here is his game list `['Counter-Strike Source', 'Eternal Silence', 'Half-Life 2', 'Half-Life 2 Deathmatch', 'Half-Life 2 Lost Coast', 'Half-Life Deathmatch Source', 'Half-Life Source']`. He is really half-life lover, lets see what we can do about this gentleman :)",
   "id": "33021458222c0545"
  },
  {
   "metadata": {
    "ExecuteTime": {
     "end_time": "2025-01-18T17:22:16.324287Z",
     "start_time": "2025-01-18T17:22:13.285938Z"
    }
   },
   "cell_type": "code",
   "source": [
    "recommendation:sp.csr_matrix = data_encoded.dot(oc_matrix)\n",
    "recommendation[data_encoded.nonzero()] = 0\n",
    "recommendation_tfidf:sp.csr_matrix = data_encoded_tfidf.dot(octfidf_matrix)\n",
    "recommendation_tfidf[data_encoded_tfidf.nonzero()] = 0"
   ],
   "id": "8a3bae0148ddf455",
   "outputs": [
    {
     "name": "stderr",
     "output_type": "stream",
     "text": [
      "/opt/miniconda3/lib/python3.12/site-packages/scipy/sparse/_index.py:151: SparseEfficiencyWarning: Changing the sparsity structure of a csr_matrix is expensive. lil_matrix is more efficient.\n",
      "  self._set_arrayXarray(i, j, x)\n"
     ]
    }
   ],
   "execution_count": 162
  },
  {
   "metadata": {
    "ExecuteTime": {
     "end_time": "2025-01-18T17:22:16.400908Z",
     "start_time": "2025-01-18T17:22:16.382563Z"
    }
   },
   "cell_type": "code",
   "source": [
    "non_normalized = pd.DataFrame({\n",
    "    'games': games_names_vec[recommendation[415].nonzero()[1]],\n",
    "    'weight': np.array(recommendation[415][recommendation[415].nonzero()])[0]\n",
    "}).sort_values(by='weight', ascending=False)\n",
    "non_normalized.head(20)"
   ],
   "id": "970cb79fd95b5a8d",
   "outputs": [
    {
     "data": {
      "text/plain": [
       "                                            games        weight\n",
       "3714              Counter-Strike Global Offensive  6.785520e+07\n",
       "3419                                       Dota 2  3.372124e+07\n",
       "1172                              Team Fortress 2  2.390500e+07\n",
       "3009                                   Garrys Mod  1.504633e+07\n",
       "1087                   The Elder Scrolls V Skyrim  7.337526e+06\n",
       "2564                                Left 4 Dead 2  7.257411e+06\n",
       "3717                               Counter-Strike  6.450919e+06\n",
       "1532                    Sid Meiers Civilization V  5.103981e+06\n",
       "4111                               Battle Nations  5.080268e+06\n",
       "2298                         Mount  Blade Warband  4.968153e+06\n",
       "1992                                     Portal 2  4.826383e+06\n",
       "3898  Call of Duty Modern Warfare 2 - Multiplayer  4.673705e+06\n",
       "1158                                     Terraria  4.202598e+06\n",
       "2249                          Natural Selection 2  3.940956e+06\n",
       "2565                                  Left 4 Dead  3.123536e+06\n",
       "660                                      Warframe  3.060575e+06\n",
       "3996                                Borderlands 2  3.011877e+06\n",
       "2946                           Grand Theft Auto V  2.848301e+06\n",
       "1706                                         Rust  2.773544e+06\n",
       "2122                                     PAYDAY 2  2.523025e+06"
      ],
      "text/html": [
       "<div>\n",
       "<style scoped>\n",
       "    .dataframe tbody tr th:only-of-type {\n",
       "        vertical-align: middle;\n",
       "    }\n",
       "\n",
       "    .dataframe tbody tr th {\n",
       "        vertical-align: top;\n",
       "    }\n",
       "\n",
       "    .dataframe thead th {\n",
       "        text-align: right;\n",
       "    }\n",
       "</style>\n",
       "<table border=\"1\" class=\"dataframe\">\n",
       "  <thead>\n",
       "    <tr style=\"text-align: right;\">\n",
       "      <th></th>\n",
       "      <th>games</th>\n",
       "      <th>weight</th>\n",
       "    </tr>\n",
       "  </thead>\n",
       "  <tbody>\n",
       "    <tr>\n",
       "      <th>3714</th>\n",
       "      <td>Counter-Strike Global Offensive</td>\n",
       "      <td>6.785520e+07</td>\n",
       "    </tr>\n",
       "    <tr>\n",
       "      <th>3419</th>\n",
       "      <td>Dota 2</td>\n",
       "      <td>3.372124e+07</td>\n",
       "    </tr>\n",
       "    <tr>\n",
       "      <th>1172</th>\n",
       "      <td>Team Fortress 2</td>\n",
       "      <td>2.390500e+07</td>\n",
       "    </tr>\n",
       "    <tr>\n",
       "      <th>3009</th>\n",
       "      <td>Garrys Mod</td>\n",
       "      <td>1.504633e+07</td>\n",
       "    </tr>\n",
       "    <tr>\n",
       "      <th>1087</th>\n",
       "      <td>The Elder Scrolls V Skyrim</td>\n",
       "      <td>7.337526e+06</td>\n",
       "    </tr>\n",
       "    <tr>\n",
       "      <th>2564</th>\n",
       "      <td>Left 4 Dead 2</td>\n",
       "      <td>7.257411e+06</td>\n",
       "    </tr>\n",
       "    <tr>\n",
       "      <th>3717</th>\n",
       "      <td>Counter-Strike</td>\n",
       "      <td>6.450919e+06</td>\n",
       "    </tr>\n",
       "    <tr>\n",
       "      <th>1532</th>\n",
       "      <td>Sid Meiers Civilization V</td>\n",
       "      <td>5.103981e+06</td>\n",
       "    </tr>\n",
       "    <tr>\n",
       "      <th>4111</th>\n",
       "      <td>Battle Nations</td>\n",
       "      <td>5.080268e+06</td>\n",
       "    </tr>\n",
       "    <tr>\n",
       "      <th>2298</th>\n",
       "      <td>Mount  Blade Warband</td>\n",
       "      <td>4.968153e+06</td>\n",
       "    </tr>\n",
       "    <tr>\n",
       "      <th>1992</th>\n",
       "      <td>Portal 2</td>\n",
       "      <td>4.826383e+06</td>\n",
       "    </tr>\n",
       "    <tr>\n",
       "      <th>3898</th>\n",
       "      <td>Call of Duty Modern Warfare 2 - Multiplayer</td>\n",
       "      <td>4.673705e+06</td>\n",
       "    </tr>\n",
       "    <tr>\n",
       "      <th>1158</th>\n",
       "      <td>Terraria</td>\n",
       "      <td>4.202598e+06</td>\n",
       "    </tr>\n",
       "    <tr>\n",
       "      <th>2249</th>\n",
       "      <td>Natural Selection 2</td>\n",
       "      <td>3.940956e+06</td>\n",
       "    </tr>\n",
       "    <tr>\n",
       "      <th>2565</th>\n",
       "      <td>Left 4 Dead</td>\n",
       "      <td>3.123536e+06</td>\n",
       "    </tr>\n",
       "    <tr>\n",
       "      <th>660</th>\n",
       "      <td>Warframe</td>\n",
       "      <td>3.060575e+06</td>\n",
       "    </tr>\n",
       "    <tr>\n",
       "      <th>3996</th>\n",
       "      <td>Borderlands 2</td>\n",
       "      <td>3.011877e+06</td>\n",
       "    </tr>\n",
       "    <tr>\n",
       "      <th>2946</th>\n",
       "      <td>Grand Theft Auto V</td>\n",
       "      <td>2.848301e+06</td>\n",
       "    </tr>\n",
       "    <tr>\n",
       "      <th>1706</th>\n",
       "      <td>Rust</td>\n",
       "      <td>2.773544e+06</td>\n",
       "    </tr>\n",
       "    <tr>\n",
       "      <th>2122</th>\n",
       "      <td>PAYDAY 2</td>\n",
       "      <td>2.523025e+06</td>\n",
       "    </tr>\n",
       "  </tbody>\n",
       "</table>\n",
       "</div>"
      ]
     },
     "execution_count": 163,
     "metadata": {},
     "output_type": "execute_result"
    }
   ],
   "execution_count": 163
  },
  {
   "metadata": {},
   "cell_type": "markdown",
   "source": "> 📝 <span style=\"color:lightblue\">Komentarz:</span> I can assure you that if i were this guy i wouldn't be very happy about recommendations. We are getting here most popular games on steam. Of course it doesnt mean that he wouldnt be satisfied, but only reasonable recommendations here are portal 2, left4dead 1 and 2, tf2 and garrys mode. Lets see if tfidf, change anything.",
   "id": "d4073a801e59d4b6"
  },
  {
   "metadata": {
    "ExecuteTime": {
     "end_time": "2025-01-18T17:22:16.490573Z",
     "start_time": "2025-01-18T17:22:16.477930Z"
    }
   },
   "cell_type": "code",
   "source": [
    "normalized = pd.DataFrame({\n",
    "    'games': games_names_vec[recommendation_tfidf[415].nonzero()[1]],\n",
    "    'weight': np.array(recommendation_tfidf[415][recommendation_tfidf[415].nonzero()])[0]\n",
    "}).sort_values(by='weight', ascending=False)\n",
    "normalized.head(20)"
   ],
   "id": "6cb6396d545db21",
   "outputs": [
    {
     "data": {
      "text/plain": [
       "                                             games     weight\n",
       "2869                       Half-Life 2 Episode One  10.244847\n",
       "2868                       Half-Life 2 Episode Two   7.955495\n",
       "1993                                        Portal   5.203963\n",
       "1172                               Team Fortress 2   4.304037\n",
       "3717                                Counter-Strike   3.120978\n",
       "3596                          Day of Defeat Source   2.857070\n",
       "2870                                     Half-Life   2.599879\n",
       "1992                                      Portal 2   1.947506\n",
       "2865                      Half-Life Opposing Force   1.881915\n",
       "3597                                 Day of Defeat   1.839014\n",
       "2866                          Half-Life Blue Shift   1.805276\n",
       "1171                         Team Fortress Classic   1.790811\n",
       "3714               Counter-Strike Global Offensive   1.759850\n",
       "1769                                      Ricochet   1.728132\n",
       "3554                            Deathmatch Classic   1.727386\n",
       "3009                                    Garrys Mod   1.536947\n",
       "3716                 Counter-Strike Condition Zero   1.299381\n",
       "3715  Counter-Strike Condition Zero Deleted Scenes   1.165670\n",
       "1087                    The Elder Scrolls V Skyrim   1.061087\n",
       "2564                                 Left 4 Dead 2   1.034397"
      ],
      "text/html": [
       "<div>\n",
       "<style scoped>\n",
       "    .dataframe tbody tr th:only-of-type {\n",
       "        vertical-align: middle;\n",
       "    }\n",
       "\n",
       "    .dataframe tbody tr th {\n",
       "        vertical-align: top;\n",
       "    }\n",
       "\n",
       "    .dataframe thead th {\n",
       "        text-align: right;\n",
       "    }\n",
       "</style>\n",
       "<table border=\"1\" class=\"dataframe\">\n",
       "  <thead>\n",
       "    <tr style=\"text-align: right;\">\n",
       "      <th></th>\n",
       "      <th>games</th>\n",
       "      <th>weight</th>\n",
       "    </tr>\n",
       "  </thead>\n",
       "  <tbody>\n",
       "    <tr>\n",
       "      <th>2869</th>\n",
       "      <td>Half-Life 2 Episode One</td>\n",
       "      <td>10.244847</td>\n",
       "    </tr>\n",
       "    <tr>\n",
       "      <th>2868</th>\n",
       "      <td>Half-Life 2 Episode Two</td>\n",
       "      <td>7.955495</td>\n",
       "    </tr>\n",
       "    <tr>\n",
       "      <th>1993</th>\n",
       "      <td>Portal</td>\n",
       "      <td>5.203963</td>\n",
       "    </tr>\n",
       "    <tr>\n",
       "      <th>1172</th>\n",
       "      <td>Team Fortress 2</td>\n",
       "      <td>4.304037</td>\n",
       "    </tr>\n",
       "    <tr>\n",
       "      <th>3717</th>\n",
       "      <td>Counter-Strike</td>\n",
       "      <td>3.120978</td>\n",
       "    </tr>\n",
       "    <tr>\n",
       "      <th>3596</th>\n",
       "      <td>Day of Defeat Source</td>\n",
       "      <td>2.857070</td>\n",
       "    </tr>\n",
       "    <tr>\n",
       "      <th>2870</th>\n",
       "      <td>Half-Life</td>\n",
       "      <td>2.599879</td>\n",
       "    </tr>\n",
       "    <tr>\n",
       "      <th>1992</th>\n",
       "      <td>Portal 2</td>\n",
       "      <td>1.947506</td>\n",
       "    </tr>\n",
       "    <tr>\n",
       "      <th>2865</th>\n",
       "      <td>Half-Life Opposing Force</td>\n",
       "      <td>1.881915</td>\n",
       "    </tr>\n",
       "    <tr>\n",
       "      <th>3597</th>\n",
       "      <td>Day of Defeat</td>\n",
       "      <td>1.839014</td>\n",
       "    </tr>\n",
       "    <tr>\n",
       "      <th>2866</th>\n",
       "      <td>Half-Life Blue Shift</td>\n",
       "      <td>1.805276</td>\n",
       "    </tr>\n",
       "    <tr>\n",
       "      <th>1171</th>\n",
       "      <td>Team Fortress Classic</td>\n",
       "      <td>1.790811</td>\n",
       "    </tr>\n",
       "    <tr>\n",
       "      <th>3714</th>\n",
       "      <td>Counter-Strike Global Offensive</td>\n",
       "      <td>1.759850</td>\n",
       "    </tr>\n",
       "    <tr>\n",
       "      <th>1769</th>\n",
       "      <td>Ricochet</td>\n",
       "      <td>1.728132</td>\n",
       "    </tr>\n",
       "    <tr>\n",
       "      <th>3554</th>\n",
       "      <td>Deathmatch Classic</td>\n",
       "      <td>1.727386</td>\n",
       "    </tr>\n",
       "    <tr>\n",
       "      <th>3009</th>\n",
       "      <td>Garrys Mod</td>\n",
       "      <td>1.536947</td>\n",
       "    </tr>\n",
       "    <tr>\n",
       "      <th>3716</th>\n",
       "      <td>Counter-Strike Condition Zero</td>\n",
       "      <td>1.299381</td>\n",
       "    </tr>\n",
       "    <tr>\n",
       "      <th>3715</th>\n",
       "      <td>Counter-Strike Condition Zero Deleted Scenes</td>\n",
       "      <td>1.165670</td>\n",
       "    </tr>\n",
       "    <tr>\n",
       "      <th>1087</th>\n",
       "      <td>The Elder Scrolls V Skyrim</td>\n",
       "      <td>1.061087</td>\n",
       "    </tr>\n",
       "    <tr>\n",
       "      <th>2564</th>\n",
       "      <td>Left 4 Dead 2</td>\n",
       "      <td>1.034397</td>\n",
       "    </tr>\n",
       "  </tbody>\n",
       "</table>\n",
       "</div>"
      ]
     },
     "execution_count": 164,
     "metadata": {},
     "output_type": "execute_result"
    }
   ],
   "execution_count": 164
  },
  {
   "metadata": {},
   "cell_type": "markdown",
   "source": "> 📝 <span style=\"color:lightblue\">Komentarz:</span> We can see, that we have a lot of nice recommendations, lots of sequels to the games that he is already playing or have, mostly half-life and other cs games. But why? We know that tfidf embrace 'words' that appears a lot in specific texts, like obama in obama and politicians articles, what is importart is that, here we have similar thing, we do not want to look at those popular games that happen to be on every account, but specific games that a specific group of user have, so then after transformation, we are going to have much higher `hours_played` near games that are specific for a specific group of users, so it might be better to recommend them those specific group games than, some general ones.   ",
   "id": "365d0b5f158c4626"
  },
  {
   "metadata": {},
   "cell_type": "markdown",
   "source": "### <span style=\"color:#6e174c\"><b>Product similarity</b>",
   "id": "cb86535a2aa7656a"
  },
  {
   "metadata": {
    "ExecuteTime": {
     "end_time": "2025-01-18T17:23:31.687632Z",
     "start_time": "2025-01-18T17:23:31.680538Z"
    }
   },
   "cell_type": "code",
   "source": "",
   "id": "d076b634f9035d02",
   "outputs": [
    {
     "name": "stdout",
     "output_type": "stream",
     "text": [
      "(86343, 101061) (86343, 4) (86343, 100579) (86343, 36) (86343, 442)\n"
     ]
    }
   ],
   "execution_count": 165
  }
 ],
 "metadata": {
  "kernelspec": {
   "display_name": "Python 3",
   "language": "python",
   "name": "python3"
  },
  "language_info": {
   "codemirror_mode": {
    "name": "ipython",
    "version": 2
   },
   "file_extension": ".py",
   "mimetype": "text/x-python",
   "name": "python",
   "nbconvert_exporter": "python",
   "pygments_lexer": "ipython2",
   "version": "2.7.6"
  }
 },
 "nbformat": 4,
 "nbformat_minor": 5
}
